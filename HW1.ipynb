{
  "cells": [
    {
      "cell_type": "markdown",
      "metadata": {
        "id": "FvRZf98OHGK9"
      },
      "source": [
        "## Mean-Variance Optimization"
      ]
    },
    {
      "cell_type": "code",
      "execution_count": 70,
      "metadata": {
        "id": "t8Mufk-ZHH0V"
      },
      "outputs": [],
      "source": [
        "import pandas as pd\n",
        "import matplotlib.pyplot as plt\n",
        "import seaborn as sns\n",
        "import numpy as np"
      ]
    },
    {
      "cell_type": "code",
      "execution_count": 71,
      "metadata": {
        "colab": {
          "base_uri": "https://localhost:8080/",
          "height": 206
        },
        "id": "x9MEDUCZHj3-",
        "outputId": "d87e82dd-a9b1-48f4-a1f2-f2468df228d4"
      },
      "outputs": [
        {
          "data": {
            "text/html": [
              "<div>\n",
              "<style scoped>\n",
              "    .dataframe tbody tr th:only-of-type {\n",
              "        vertical-align: middle;\n",
              "    }\n",
              "\n",
              "    .dataframe tbody tr th {\n",
              "        vertical-align: top;\n",
              "    }\n",
              "\n",
              "    .dataframe thead th {\n",
              "        text-align: right;\n",
              "    }\n",
              "</style>\n",
              "<table border=\"1\" class=\"dataframe\">\n",
              "  <thead>\n",
              "    <tr style=\"text-align: right;\">\n",
              "      <th></th>\n",
              "      <th>ticker</th>\n",
              "      <th>shortName</th>\n",
              "      <th>quoteType</th>\n",
              "      <th>currency</th>\n",
              "      <th>volume</th>\n",
              "      <th>totalAssets</th>\n",
              "      <th>longBusinessSummary</th>\n",
              "    </tr>\n",
              "  </thead>\n",
              "  <tbody>\n",
              "    <tr>\n",
              "      <th>0</th>\n",
              "      <td>SPY</td>\n",
              "      <td>SPDR S&amp;P 500</td>\n",
              "      <td>ETF</td>\n",
              "      <td>USD</td>\n",
              "      <td>NaN</td>\n",
              "      <td>NaN</td>\n",
              "      <td>NaN</td>\n",
              "    </tr>\n",
              "    <tr>\n",
              "      <th>1</th>\n",
              "      <td>EFA</td>\n",
              "      <td>iShares MSCI EAFE ETF</td>\n",
              "      <td>ETF</td>\n",
              "      <td>USD</td>\n",
              "      <td>NaN</td>\n",
              "      <td>NaN</td>\n",
              "      <td>NaN</td>\n",
              "    </tr>\n",
              "    <tr>\n",
              "      <th>2</th>\n",
              "      <td>EEM</td>\n",
              "      <td>iShares MSCI Emerging Index Fun</td>\n",
              "      <td>ETF</td>\n",
              "      <td>USD</td>\n",
              "      <td>NaN</td>\n",
              "      <td>NaN</td>\n",
              "      <td>NaN</td>\n",
              "    </tr>\n",
              "    <tr>\n",
              "      <th>3</th>\n",
              "      <td>PSP</td>\n",
              "      <td>Invesco Global Listed Private E</td>\n",
              "      <td>ETF</td>\n",
              "      <td>USD</td>\n",
              "      <td>NaN</td>\n",
              "      <td>NaN</td>\n",
              "      <td>NaN</td>\n",
              "    </tr>\n",
              "    <tr>\n",
              "      <th>4</th>\n",
              "      <td>QAI</td>\n",
              "      <td>NYLI Hedge Multi-Strategy Track</td>\n",
              "      <td>ETF</td>\n",
              "      <td>USD</td>\n",
              "      <td>NaN</td>\n",
              "      <td>NaN</td>\n",
              "      <td>NaN</td>\n",
              "    </tr>\n",
              "    <tr>\n",
              "      <th>5</th>\n",
              "      <td>HYG</td>\n",
              "      <td>iShares iBoxx $ High Yield Corp</td>\n",
              "      <td>ETF</td>\n",
              "      <td>USD</td>\n",
              "      <td>NaN</td>\n",
              "      <td>NaN</td>\n",
              "      <td>NaN</td>\n",
              "    </tr>\n",
              "    <tr>\n",
              "      <th>6</th>\n",
              "      <td>DBC</td>\n",
              "      <td>Invesco DB Commodity Index Trac</td>\n",
              "      <td>ETF</td>\n",
              "      <td>USD</td>\n",
              "      <td>NaN</td>\n",
              "      <td>NaN</td>\n",
              "      <td>NaN</td>\n",
              "    </tr>\n",
              "    <tr>\n",
              "      <th>7</th>\n",
              "      <td>IYR</td>\n",
              "      <td>iShares U.S. Real Estate ETF</td>\n",
              "      <td>ETF</td>\n",
              "      <td>USD</td>\n",
              "      <td>6211444.0</td>\n",
              "      <td>3.480166e+09</td>\n",
              "      <td>The fund seeks to track the investment results...</td>\n",
              "    </tr>\n",
              "    <tr>\n",
              "      <th>8</th>\n",
              "      <td>IEF</td>\n",
              "      <td>iShares 7-10 Year Treasury Bond</td>\n",
              "      <td>ETF</td>\n",
              "      <td>USD</td>\n",
              "      <td>7506784.0</td>\n",
              "      <td>3.493820e+10</td>\n",
              "      <td>The underlying index measures the performance ...</td>\n",
              "    </tr>\n",
              "    <tr>\n",
              "      <th>9</th>\n",
              "      <td>BWX</td>\n",
              "      <td>SPDR Bloomberg International Tr</td>\n",
              "      <td>ETF</td>\n",
              "      <td>USD</td>\n",
              "      <td>NaN</td>\n",
              "      <td>NaN</td>\n",
              "      <td>NaN</td>\n",
              "    </tr>\n",
              "    <tr>\n",
              "      <th>10</th>\n",
              "      <td>TIP</td>\n",
              "      <td>iShares TIPS Bond ETF</td>\n",
              "      <td>ETF</td>\n",
              "      <td>USD</td>\n",
              "      <td>NaN</td>\n",
              "      <td>NaN</td>\n",
              "      <td>NaN</td>\n",
              "    </tr>\n",
              "    <tr>\n",
              "      <th>11</th>\n",
              "      <td>SHV</td>\n",
              "      <td>iShares Short Treasury Bond ETF</td>\n",
              "      <td>ETF</td>\n",
              "      <td>USD</td>\n",
              "      <td>NaN</td>\n",
              "      <td>NaN</td>\n",
              "      <td>NaN</td>\n",
              "    </tr>\n",
              "  </tbody>\n",
              "</table>\n",
              "</div>"
            ],
            "text/plain": [
              "   ticker                        shortName quoteType currency     volume  \\\n",
              "0     SPY                     SPDR S&P 500       ETF      USD        NaN   \n",
              "1     EFA            iShares MSCI EAFE ETF       ETF      USD        NaN   \n",
              "2     EEM  iShares MSCI Emerging Index Fun       ETF      USD        NaN   \n",
              "3     PSP  Invesco Global Listed Private E       ETF      USD        NaN   \n",
              "4     QAI  NYLI Hedge Multi-Strategy Track       ETF      USD        NaN   \n",
              "5     HYG  iShares iBoxx $ High Yield Corp       ETF      USD        NaN   \n",
              "6     DBC  Invesco DB Commodity Index Trac       ETF      USD        NaN   \n",
              "7     IYR     iShares U.S. Real Estate ETF       ETF      USD  6211444.0   \n",
              "8     IEF  iShares 7-10 Year Treasury Bond       ETF      USD  7506784.0   \n",
              "9     BWX  SPDR Bloomberg International Tr       ETF      USD        NaN   \n",
              "10    TIP            iShares TIPS Bond ETF       ETF      USD        NaN   \n",
              "11    SHV  iShares Short Treasury Bond ETF       ETF      USD        NaN   \n",
              "\n",
              "     totalAssets                                longBusinessSummary  \n",
              "0            NaN                                                NaN  \n",
              "1            NaN                                                NaN  \n",
              "2            NaN                                                NaN  \n",
              "3            NaN                                                NaN  \n",
              "4            NaN                                                NaN  \n",
              "5            NaN                                                NaN  \n",
              "6            NaN                                                NaN  \n",
              "7   3.480166e+09  The fund seeks to track the investment results...  \n",
              "8   3.493820e+10  The underlying index measures the performance ...  \n",
              "9            NaN                                                NaN  \n",
              "10           NaN                                                NaN  \n",
              "11           NaN                                                NaN  "
            ]
          },
          "execution_count": 71,
          "metadata": {},
          "output_type": "execute_result"
        }
      ],
      "source": [
        "ticker_description = pd.read_excel(\"multi_asset_etf_data.xlsx\", sheet_name='descriptions')\n",
        "prices = pd.read_excel(\"multi_asset_etf_data.xlsx\", sheet_name='prices').drop('QAI',axis=1)\n",
        "tot_return = pd.read_excel(\"multi_asset_etf_data.xlsx\", sheet_name='total returns').drop('QAI',axis=1)\n",
        "excess_return = pd.read_excel(\"multi_asset_etf_data.xlsx\", sheet_name='excess returns').drop('QAI',axis=1)\n",
        "\n",
        "ticker_description"
      ]
    },
    {
      "cell_type": "code",
      "execution_count": 72,
      "metadata": {},
      "outputs": [
        {
          "data": {
            "text/html": [
              "<div>\n",
              "<style scoped>\n",
              "    .dataframe tbody tr th:only-of-type {\n",
              "        vertical-align: middle;\n",
              "    }\n",
              "\n",
              "    .dataframe tbody tr th {\n",
              "        vertical-align: top;\n",
              "    }\n",
              "\n",
              "    .dataframe thead th {\n",
              "        text-align: right;\n",
              "    }\n",
              "</style>\n",
              "<table border=\"1\" class=\"dataframe\">\n",
              "  <thead>\n",
              "    <tr style=\"text-align: right;\">\n",
              "      <th></th>\n",
              "      <th>Date</th>\n",
              "      <th>BWX</th>\n",
              "      <th>DBC</th>\n",
              "      <th>EEM</th>\n",
              "      <th>EFA</th>\n",
              "      <th>HYG</th>\n",
              "      <th>IEF</th>\n",
              "      <th>IYR</th>\n",
              "      <th>PSP</th>\n",
              "      <th>SHV</th>\n",
              "      <th>SPY</th>\n",
              "      <th>TIP</th>\n",
              "    </tr>\n",
              "  </thead>\n",
              "  <tbody>\n",
              "    <tr>\n",
              "      <th>0</th>\n",
              "      <td>2011-01-31</td>\n",
              "      <td>24.350737</td>\n",
              "      <td>24.932129</td>\n",
              "      <td>33.842106</td>\n",
              "      <td>39.154465</td>\n",
              "      <td>41.369602</td>\n",
              "      <td>69.510223</td>\n",
              "      <td>36.002327</td>\n",
              "      <td>22.359201</td>\n",
              "      <td>91.488312</td>\n",
              "      <td>99.297096</td>\n",
              "      <td>75.034828</td>\n",
              "    </tr>\n",
              "    <tr>\n",
              "      <th>1</th>\n",
              "      <td>2011-02-28</td>\n",
              "      <td>24.511862</td>\n",
              "      <td>25.972059</td>\n",
              "      <td>33.827332</td>\n",
              "      <td>40.544365</td>\n",
              "      <td>41.963394</td>\n",
              "      <td>69.365349</td>\n",
              "      <td>37.629772</td>\n",
              "      <td>23.256830</td>\n",
              "      <td>91.496567</td>\n",
              "      <td>102.746445</td>\n",
              "      <td>75.575668</td>\n",
              "    </tr>\n",
              "    <tr>\n",
              "      <th>2</th>\n",
              "      <td>2011-03-31</td>\n",
              "      <td>24.718430</td>\n",
              "      <td>26.662436</td>\n",
              "      <td>35.954922</td>\n",
              "      <td>39.576050</td>\n",
              "      <td>41.981182</td>\n",
              "      <td>69.258118</td>\n",
              "      <td>37.218288</td>\n",
              "      <td>23.644442</td>\n",
              "      <td>91.512306</td>\n",
              "      <td>102.758766</td>\n",
              "      <td>76.475258</td>\n",
              "    </tr>\n",
              "    <tr>\n",
              "      <th>3</th>\n",
              "      <td>2011-04-30</td>\n",
              "      <td>25.924810</td>\n",
              "      <td>27.877144</td>\n",
              "      <td>36.937466</td>\n",
              "      <td>41.802536</td>\n",
              "      <td>42.651890</td>\n",
              "      <td>70.533417</td>\n",
              "      <td>38.953907</td>\n",
              "      <td>25.031689</td>\n",
              "      <td>91.562141</td>\n",
              "      <td>105.734825</td>\n",
              "      <td>78.293839</td>\n",
              "    </tr>\n",
              "    <tr>\n",
              "      <th>4</th>\n",
              "      <td>2011-05-31</td>\n",
              "      <td>25.573650</td>\n",
              "      <td>26.435223</td>\n",
              "      <td>35.851501</td>\n",
              "      <td>40.880329</td>\n",
              "      <td>42.708733</td>\n",
              "      <td>72.300583</td>\n",
              "      <td>39.348637</td>\n",
              "      <td>23.991255</td>\n",
              "      <td>91.552986</td>\n",
              "      <td>104.549042</td>\n",
              "      <td>78.502037</td>\n",
              "    </tr>\n",
              "  </tbody>\n",
              "</table>\n",
              "</div>"
            ],
            "text/plain": [
              "        Date        BWX        DBC        EEM        EFA        HYG  \\\n",
              "0 2011-01-31  24.350737  24.932129  33.842106  39.154465  41.369602   \n",
              "1 2011-02-28  24.511862  25.972059  33.827332  40.544365  41.963394   \n",
              "2 2011-03-31  24.718430  26.662436  35.954922  39.576050  41.981182   \n",
              "3 2011-04-30  25.924810  27.877144  36.937466  41.802536  42.651890   \n",
              "4 2011-05-31  25.573650  26.435223  35.851501  40.880329  42.708733   \n",
              "\n",
              "         IEF        IYR        PSP        SHV         SPY        TIP  \n",
              "0  69.510223  36.002327  22.359201  91.488312   99.297096  75.034828  \n",
              "1  69.365349  37.629772  23.256830  91.496567  102.746445  75.575668  \n",
              "2  69.258118  37.218288  23.644442  91.512306  102.758766  76.475258  \n",
              "3  70.533417  38.953907  25.031689  91.562141  105.734825  78.293839  \n",
              "4  72.300583  39.348637  23.991255  91.552986  104.549042  78.502037  "
            ]
          },
          "execution_count": 72,
          "metadata": {},
          "output_type": "execute_result"
        }
      ],
      "source": [
        "prices.head()"
      ]
    },
    {
      "cell_type": "code",
      "execution_count": 73,
      "metadata": {
        "colab": {
          "base_uri": "https://localhost:8080/",
          "height": 206
        },
        "id": "y89W_cS2IwrW",
        "outputId": "c12f1f09-4964-485e-df3c-0afd8947735c"
      },
      "outputs": [
        {
          "data": {
            "text/html": [
              "<div>\n",
              "<style scoped>\n",
              "    .dataframe tbody tr th:only-of-type {\n",
              "        vertical-align: middle;\n",
              "    }\n",
              "\n",
              "    .dataframe tbody tr th {\n",
              "        vertical-align: top;\n",
              "    }\n",
              "\n",
              "    .dataframe thead th {\n",
              "        text-align: right;\n",
              "    }\n",
              "</style>\n",
              "<table border=\"1\" class=\"dataframe\">\n",
              "  <thead>\n",
              "    <tr style=\"text-align: right;\">\n",
              "      <th></th>\n",
              "      <th>Date</th>\n",
              "      <th>BWX</th>\n",
              "      <th>DBC</th>\n",
              "      <th>EEM</th>\n",
              "      <th>EFA</th>\n",
              "      <th>HYG</th>\n",
              "      <th>IEF</th>\n",
              "      <th>IYR</th>\n",
              "      <th>PSP</th>\n",
              "      <th>SHV</th>\n",
              "      <th>SPY</th>\n",
              "      <th>TIP</th>\n",
              "    </tr>\n",
              "  </thead>\n",
              "  <tbody>\n",
              "    <tr>\n",
              "      <th>0</th>\n",
              "      <td>2011-01-31</td>\n",
              "      <td>24.350737</td>\n",
              "      <td>24.932129</td>\n",
              "      <td>33.842106</td>\n",
              "      <td>39.154465</td>\n",
              "      <td>41.369602</td>\n",
              "      <td>69.510223</td>\n",
              "      <td>36.002327</td>\n",
              "      <td>22.359201</td>\n",
              "      <td>91.488312</td>\n",
              "      <td>99.297096</td>\n",
              "      <td>75.034828</td>\n",
              "    </tr>\n",
              "    <tr>\n",
              "      <th>1</th>\n",
              "      <td>2011-02-28</td>\n",
              "      <td>24.511862</td>\n",
              "      <td>25.972059</td>\n",
              "      <td>33.827332</td>\n",
              "      <td>40.544365</td>\n",
              "      <td>41.963394</td>\n",
              "      <td>69.365349</td>\n",
              "      <td>37.629772</td>\n",
              "      <td>23.256830</td>\n",
              "      <td>91.496567</td>\n",
              "      <td>102.746445</td>\n",
              "      <td>75.575668</td>\n",
              "    </tr>\n",
              "    <tr>\n",
              "      <th>2</th>\n",
              "      <td>2011-03-31</td>\n",
              "      <td>24.718430</td>\n",
              "      <td>26.662436</td>\n",
              "      <td>35.954922</td>\n",
              "      <td>39.576050</td>\n",
              "      <td>41.981182</td>\n",
              "      <td>69.258118</td>\n",
              "      <td>37.218288</td>\n",
              "      <td>23.644442</td>\n",
              "      <td>91.512306</td>\n",
              "      <td>102.758766</td>\n",
              "      <td>76.475258</td>\n",
              "    </tr>\n",
              "    <tr>\n",
              "      <th>3</th>\n",
              "      <td>2011-04-30</td>\n",
              "      <td>25.924810</td>\n",
              "      <td>27.877144</td>\n",
              "      <td>36.937466</td>\n",
              "      <td>41.802536</td>\n",
              "      <td>42.651890</td>\n",
              "      <td>70.533417</td>\n",
              "      <td>38.953907</td>\n",
              "      <td>25.031689</td>\n",
              "      <td>91.562141</td>\n",
              "      <td>105.734825</td>\n",
              "      <td>78.293839</td>\n",
              "    </tr>\n",
              "    <tr>\n",
              "      <th>4</th>\n",
              "      <td>2011-05-31</td>\n",
              "      <td>25.573650</td>\n",
              "      <td>26.435223</td>\n",
              "      <td>35.851501</td>\n",
              "      <td>40.880329</td>\n",
              "      <td>42.708733</td>\n",
              "      <td>72.300583</td>\n",
              "      <td>39.348637</td>\n",
              "      <td>23.991255</td>\n",
              "      <td>91.552986</td>\n",
              "      <td>104.549042</td>\n",
              "      <td>78.502037</td>\n",
              "    </tr>\n",
              "  </tbody>\n",
              "</table>\n",
              "</div>"
            ],
            "text/plain": [
              "        Date        BWX        DBC        EEM        EFA        HYG  \\\n",
              "0 2011-01-31  24.350737  24.932129  33.842106  39.154465  41.369602   \n",
              "1 2011-02-28  24.511862  25.972059  33.827332  40.544365  41.963394   \n",
              "2 2011-03-31  24.718430  26.662436  35.954922  39.576050  41.981182   \n",
              "3 2011-04-30  25.924810  27.877144  36.937466  41.802536  42.651890   \n",
              "4 2011-05-31  25.573650  26.435223  35.851501  40.880329  42.708733   \n",
              "\n",
              "         IEF        IYR        PSP        SHV         SPY        TIP  \n",
              "0  69.510223  36.002327  22.359201  91.488312   99.297096  75.034828  \n",
              "1  69.365349  37.629772  23.256830  91.496567  102.746445  75.575668  \n",
              "2  69.258118  37.218288  23.644442  91.512306  102.758766  76.475258  \n",
              "3  70.533417  38.953907  25.031689  91.562141  105.734825  78.293839  \n",
              "4  72.300583  39.348637  23.991255  91.552986  104.549042  78.502037  "
            ]
          },
          "execution_count": 73,
          "metadata": {},
          "output_type": "execute_result"
        }
      ],
      "source": [
        "prices.head(5)"
      ]
    },
    {
      "cell_type": "code",
      "execution_count": 74,
      "metadata": {
        "colab": {
          "base_uri": "https://localhost:8080/",
          "height": 206
        },
        "id": "uHbHu1UwJkLr",
        "outputId": "9d950fc8-a2c4-48b7-b4a7-bbea143eed4b"
      },
      "outputs": [
        {
          "data": {
            "text/html": [
              "<div>\n",
              "<style scoped>\n",
              "    .dataframe tbody tr th:only-of-type {\n",
              "        vertical-align: middle;\n",
              "    }\n",
              "\n",
              "    .dataframe tbody tr th {\n",
              "        vertical-align: top;\n",
              "    }\n",
              "\n",
              "    .dataframe thead th {\n",
              "        text-align: right;\n",
              "    }\n",
              "</style>\n",
              "<table border=\"1\" class=\"dataframe\">\n",
              "  <thead>\n",
              "    <tr style=\"text-align: right;\">\n",
              "      <th></th>\n",
              "      <th>Date</th>\n",
              "      <th>BWX</th>\n",
              "      <th>DBC</th>\n",
              "      <th>EEM</th>\n",
              "      <th>EFA</th>\n",
              "      <th>HYG</th>\n",
              "      <th>IEF</th>\n",
              "      <th>IYR</th>\n",
              "      <th>PSP</th>\n",
              "      <th>SHV</th>\n",
              "      <th>SPY</th>\n",
              "      <th>TIP</th>\n",
              "    </tr>\n",
              "  </thead>\n",
              "  <tbody>\n",
              "    <tr>\n",
              "      <th>0</th>\n",
              "      <td>2011-02-28</td>\n",
              "      <td>0.006617</td>\n",
              "      <td>0.041710</td>\n",
              "      <td>-0.000437</td>\n",
              "      <td>0.035498</td>\n",
              "      <td>0.014353</td>\n",
              "      <td>-0.002084</td>\n",
              "      <td>0.045204</td>\n",
              "      <td>0.040146</td>\n",
              "      <td>-0.000410</td>\n",
              "      <td>0.034738</td>\n",
              "      <td>0.007208</td>\n",
              "    </tr>\n",
              "    <tr>\n",
              "      <th>1</th>\n",
              "      <td>2011-03-31</td>\n",
              "      <td>0.008427</td>\n",
              "      <td>0.026581</td>\n",
              "      <td>0.062896</td>\n",
              "      <td>-0.023883</td>\n",
              "      <td>0.000424</td>\n",
              "      <td>-0.001546</td>\n",
              "      <td>-0.010935</td>\n",
              "      <td>0.016667</td>\n",
              "      <td>-0.000328</td>\n",
              "      <td>0.000120</td>\n",
              "      <td>0.011903</td>\n",
              "    </tr>\n",
              "    <tr>\n",
              "      <th>2</th>\n",
              "      <td>2011-04-30</td>\n",
              "      <td>0.048805</td>\n",
              "      <td>0.045559</td>\n",
              "      <td>0.027327</td>\n",
              "      <td>0.056258</td>\n",
              "      <td>0.015976</td>\n",
              "      <td>0.018414</td>\n",
              "      <td>0.046633</td>\n",
              "      <td>0.058671</td>\n",
              "      <td>0.000045</td>\n",
              "      <td>0.028962</td>\n",
              "      <td>0.023780</td>\n",
              "    </tr>\n",
              "    <tr>\n",
              "      <th>3</th>\n",
              "      <td>2011-05-31</td>\n",
              "      <td>-0.013545</td>\n",
              "      <td>-0.051724</td>\n",
              "      <td>-0.029400</td>\n",
              "      <td>-0.022061</td>\n",
              "      <td>0.001333</td>\n",
              "      <td>0.025054</td>\n",
              "      <td>0.010133</td>\n",
              "      <td>-0.041565</td>\n",
              "      <td>-0.000600</td>\n",
              "      <td>-0.011215</td>\n",
              "      <td>0.002659</td>\n",
              "    </tr>\n",
              "    <tr>\n",
              "      <th>4</th>\n",
              "      <td>2011-06-30</td>\n",
              "      <td>-0.000097</td>\n",
              "      <td>-0.042645</td>\n",
              "      <td>-0.009355</td>\n",
              "      <td>-0.012108</td>\n",
              "      <td>-0.005705</td>\n",
              "      <td>-0.005043</td>\n",
              "      <td>-0.031060</td>\n",
              "      <td>-0.042581</td>\n",
              "      <td>-0.000327</td>\n",
              "      <td>-0.016869</td>\n",
              "      <td>0.007548</td>\n",
              "    </tr>\n",
              "  </tbody>\n",
              "</table>\n",
              "</div>"
            ],
            "text/plain": [
              "        Date       BWX       DBC       EEM       EFA       HYG       IEF  \\\n",
              "0 2011-02-28  0.006617  0.041710 -0.000437  0.035498  0.014353 -0.002084   \n",
              "1 2011-03-31  0.008427  0.026581  0.062896 -0.023883  0.000424 -0.001546   \n",
              "2 2011-04-30  0.048805  0.045559  0.027327  0.056258  0.015976  0.018414   \n",
              "3 2011-05-31 -0.013545 -0.051724 -0.029400 -0.022061  0.001333  0.025054   \n",
              "4 2011-06-30 -0.000097 -0.042645 -0.009355 -0.012108 -0.005705 -0.005043   \n",
              "\n",
              "        IYR       PSP       SHV       SPY       TIP  \n",
              "0  0.045204  0.040146 -0.000410  0.034738  0.007208  \n",
              "1 -0.010935  0.016667 -0.000328  0.000120  0.011903  \n",
              "2  0.046633  0.058671  0.000045  0.028962  0.023780  \n",
              "3  0.010133 -0.041565 -0.000600 -0.011215  0.002659  \n",
              "4 -0.031060 -0.042581 -0.000327 -0.016869  0.007548  "
            ]
          },
          "execution_count": 74,
          "metadata": {},
          "output_type": "execute_result"
        }
      ],
      "source": [
        "tot_return.head(5)"
      ]
    },
    {
      "cell_type": "code",
      "execution_count": 75,
      "metadata": {
        "colab": {
          "base_uri": "https://localhost:8080/",
          "height": 206
        },
        "id": "4cH5X3OnJmME",
        "outputId": "f9c38544-f5c4-406e-e1fc-2e00dcf86517"
      },
      "outputs": [
        {
          "data": {
            "text/html": [
              "<div>\n",
              "<style scoped>\n",
              "    .dataframe tbody tr th:only-of-type {\n",
              "        vertical-align: middle;\n",
              "    }\n",
              "\n",
              "    .dataframe tbody tr th {\n",
              "        vertical-align: top;\n",
              "    }\n",
              "\n",
              "    .dataframe thead th {\n",
              "        text-align: right;\n",
              "    }\n",
              "</style>\n",
              "<table border=\"1\" class=\"dataframe\">\n",
              "  <thead>\n",
              "    <tr style=\"text-align: right;\">\n",
              "      <th></th>\n",
              "      <th>Date</th>\n",
              "      <th>BWX</th>\n",
              "      <th>DBC</th>\n",
              "      <th>EEM</th>\n",
              "      <th>EFA</th>\n",
              "      <th>HYG</th>\n",
              "      <th>IEF</th>\n",
              "      <th>IYR</th>\n",
              "      <th>PSP</th>\n",
              "      <th>SPY</th>\n",
              "      <th>TIP</th>\n",
              "    </tr>\n",
              "  </thead>\n",
              "  <tbody>\n",
              "    <tr>\n",
              "      <th>0</th>\n",
              "      <td>2011-02-28</td>\n",
              "      <td>0.007027</td>\n",
              "      <td>0.042120</td>\n",
              "      <td>-0.000027</td>\n",
              "      <td>0.035908</td>\n",
              "      <td>0.014763</td>\n",
              "      <td>-0.001674</td>\n",
              "      <td>0.045614</td>\n",
              "      <td>0.040556</td>\n",
              "      <td>0.035147</td>\n",
              "      <td>0.007618</td>\n",
              "    </tr>\n",
              "    <tr>\n",
              "      <th>1</th>\n",
              "      <td>2011-03-31</td>\n",
              "      <td>0.008755</td>\n",
              "      <td>0.026909</td>\n",
              "      <td>0.063224</td>\n",
              "      <td>-0.023555</td>\n",
              "      <td>0.000752</td>\n",
              "      <td>-0.001218</td>\n",
              "      <td>-0.010607</td>\n",
              "      <td>0.016995</td>\n",
              "      <td>0.000448</td>\n",
              "      <td>0.012231</td>\n",
              "    </tr>\n",
              "    <tr>\n",
              "      <th>2</th>\n",
              "      <td>2011-04-30</td>\n",
              "      <td>0.048760</td>\n",
              "      <td>0.045514</td>\n",
              "      <td>0.027283</td>\n",
              "      <td>0.056214</td>\n",
              "      <td>0.015932</td>\n",
              "      <td>0.018369</td>\n",
              "      <td>0.046589</td>\n",
              "      <td>0.058627</td>\n",
              "      <td>0.028917</td>\n",
              "      <td>0.023735</td>\n",
              "    </tr>\n",
              "    <tr>\n",
              "      <th>3</th>\n",
              "      <td>2011-05-31</td>\n",
              "      <td>-0.012945</td>\n",
              "      <td>-0.051124</td>\n",
              "      <td>-0.028800</td>\n",
              "      <td>-0.021461</td>\n",
              "      <td>0.001933</td>\n",
              "      <td>0.025654</td>\n",
              "      <td>0.010733</td>\n",
              "      <td>-0.040965</td>\n",
              "      <td>-0.010615</td>\n",
              "      <td>0.003259</td>\n",
              "    </tr>\n",
              "    <tr>\n",
              "      <th>4</th>\n",
              "      <td>2011-06-30</td>\n",
              "      <td>0.000230</td>\n",
              "      <td>-0.042318</td>\n",
              "      <td>-0.009027</td>\n",
              "      <td>-0.011781</td>\n",
              "      <td>-0.005378</td>\n",
              "      <td>-0.004716</td>\n",
              "      <td>-0.030733</td>\n",
              "      <td>-0.042254</td>\n",
              "      <td>-0.016542</td>\n",
              "      <td>0.007876</td>\n",
              "    </tr>\n",
              "  </tbody>\n",
              "</table>\n",
              "</div>"
            ],
            "text/plain": [
              "        Date       BWX       DBC       EEM       EFA       HYG       IEF  \\\n",
              "0 2011-02-28  0.007027  0.042120 -0.000027  0.035908  0.014763 -0.001674   \n",
              "1 2011-03-31  0.008755  0.026909  0.063224 -0.023555  0.000752 -0.001218   \n",
              "2 2011-04-30  0.048760  0.045514  0.027283  0.056214  0.015932  0.018369   \n",
              "3 2011-05-31 -0.012945 -0.051124 -0.028800 -0.021461  0.001933  0.025654   \n",
              "4 2011-06-30  0.000230 -0.042318 -0.009027 -0.011781 -0.005378 -0.004716   \n",
              "\n",
              "        IYR       PSP       SPY       TIP  \n",
              "0  0.045614  0.040556  0.035147  0.007618  \n",
              "1 -0.010607  0.016995  0.000448  0.012231  \n",
              "2  0.046589  0.058627  0.028917  0.023735  \n",
              "3  0.010733 -0.040965 -0.010615  0.003259  \n",
              "4 -0.030733 -0.042254 -0.016542  0.007876  "
            ]
          },
          "execution_count": 75,
          "metadata": {},
          "output_type": "execute_result"
        }
      ],
      "source": [
        "excess_return.head(5)"
      ]
    },
    {
      "cell_type": "markdown",
      "metadata": {
        "id": "MRreiJr0KU_V"
      },
      "source": [
        "# Summary Statistics\n"
      ]
    },
    {
      "cell_type": "code",
      "execution_count": 76,
      "metadata": {
        "id": "wjzAX3DaHpu1"
      },
      "outputs": [],
      "source": [
        "##Summary statistics\n",
        "from math import sqrt\n",
        "\n",
        "\n",
        "excess_return_df = excess_return.drop(columns=['Date'])\n",
        "means = excess_return_df.mean() * 12\n",
        "vol = excess_return_df.std() * sqrt(12)\n",
        "sharpe = means/vol\n"
      ]
    },
    {
      "cell_type": "code",
      "execution_count": 77,
      "metadata": {},
      "outputs": [
        {
          "name": "stdout",
          "output_type": "stream",
          "text": [
            "Mean (annualized) returns by ETF:\n"
          ]
        },
        {
          "data": {
            "text/plain": [
              "BWX   -0.0077\n",
              "DBC   -0.0053\n",
              "EEM    0.0293\n",
              "EFA    0.0618\n",
              "HYG    0.0414\n",
              "IEF    0.0164\n",
              "IYR    0.0749\n",
              "PSP    0.0926\n",
              "SPY    0.1281\n",
              "TIP    0.0205\n",
              "dtype: float64"
            ]
          },
          "metadata": {},
          "output_type": "display_data"
        },
        {
          "name": "stdout",
          "output_type": "stream",
          "text": [
            "Volatility (annualized) by ETF:\n"
          ]
        },
        {
          "data": {
            "text/plain": [
              "BWX    0.0828\n",
              "DBC    0.1666\n",
              "EEM    0.1762\n",
              "EFA    0.1509\n",
              "HYG    0.0759\n",
              "IEF    0.0634\n",
              "IYR    0.1687\n",
              "PSP    0.2134\n",
              "SPY    0.1428\n",
              "TIP    0.0511\n",
              "dtype: float64"
            ]
          },
          "metadata": {},
          "output_type": "display_data"
        },
        {
          "name": "stdout",
          "output_type": "stream",
          "text": [
            "Sharpe ratio by ETF:\n"
          ]
        },
        {
          "data": {
            "text/plain": [
              "BWX   -0.09\n",
              "DBC   -0.03\n",
              "EEM    0.17\n",
              "EFA    0.41\n",
              "HYG    0.54\n",
              "IEF    0.26\n",
              "IYR    0.44\n",
              "PSP    0.43\n",
              "SPY    0.90\n",
              "TIP    0.40\n",
              "dtype: float64"
            ]
          },
          "metadata": {},
          "output_type": "display_data"
        }
      ],
      "source": [
        "print('Mean (annualized) returns by ETF:')\n",
        "display(round(means, 4))\n",
        "\n",
        "print('Volatility (annualized) by ETF:')\n",
        "display(round(vol, 4))\n",
        "\n",
        "print('Sharpe ratio by ETF:')\n",
        "display(round(sharpe, 2))"
      ]
    },
    {
      "cell_type": "markdown",
      "metadata": {
        "id": "NKj-5oY5LmAX"
      },
      "source": [
        "## Descriptive Analysis\n",
        "\n",
        "The code below computes the covariance and correlation matrices from each ETF’s daily excess returns in the dataset."
      ]
    },
    {
      "cell_type": "code",
      "execution_count": 78,
      "metadata": {},
      "outputs": [
        {
          "name": "stdout",
          "output_type": "stream",
          "text": [
            "Date    0\n",
            "BWX     0\n",
            "DBC     0\n",
            "EEM     0\n",
            "EFA     0\n",
            "HYG     0\n",
            "IEF     0\n",
            "IYR     0\n",
            "PSP     0\n",
            "SPY     0\n",
            "TIP     0\n",
            "dtype: int64\n"
          ]
        }
      ],
      "source": [
        "# Create excess return DataFrame without date column and check for NaN values\n",
        "excess_return_1 = excess_return.copy()\n",
        "print(excess_return_1.isna().sum())"
      ]
    },
    {
      "cell_type": "code",
      "execution_count": 79,
      "metadata": {
        "colab": {
          "base_uri": "https://localhost:8080/",
          "height": 772
        },
        "id": "p3sye_1dLpjO",
        "outputId": "cf4cc502-78dd-49ae-f08d-43d5fec0a127"
      },
      "outputs": [
        {
          "data": {
            "text/html": [
              "<div>\n",
              "<style scoped>\n",
              "    .dataframe tbody tr th:only-of-type {\n",
              "        vertical-align: middle;\n",
              "    }\n",
              "\n",
              "    .dataframe tbody tr th {\n",
              "        vertical-align: top;\n",
              "    }\n",
              "\n",
              "    .dataframe thead th {\n",
              "        text-align: right;\n",
              "    }\n",
              "</style>\n",
              "<table border=\"1\" class=\"dataframe\">\n",
              "  <thead>\n",
              "    <tr style=\"text-align: right;\">\n",
              "      <th></th>\n",
              "      <th>Date</th>\n",
              "      <th>BWX</th>\n",
              "      <th>DBC</th>\n",
              "      <th>EEM</th>\n",
              "      <th>EFA</th>\n",
              "      <th>HYG</th>\n",
              "      <th>IEF</th>\n",
              "      <th>IYR</th>\n",
              "      <th>PSP</th>\n",
              "      <th>SPY</th>\n",
              "      <th>TIP</th>\n",
              "    </tr>\n",
              "  </thead>\n",
              "  <tbody>\n",
              "    <tr>\n",
              "      <th>Date</th>\n",
              "      <td>1.714990e+34</td>\n",
              "      <td>-2.502562e+14</td>\n",
              "      <td>5.094177e+14</td>\n",
              "      <td>8.453962e+13</td>\n",
              "      <td>1.386670e+14</td>\n",
              "      <td>-1.849161e+14</td>\n",
              "      <td>-4.043419e+14</td>\n",
              "      <td>-3.384797e+14</td>\n",
              "      <td>1.463803e+13</td>\n",
              "      <td>-3.948505e+13</td>\n",
              "      <td>-2.366907e+14</td>\n",
              "    </tr>\n",
              "    <tr>\n",
              "      <th>BWX</th>\n",
              "      <td>-2.502562e+14</td>\n",
              "      <td>5.711688e-04</td>\n",
              "      <td>2.196043e-04</td>\n",
              "      <td>7.555636e-04</td>\n",
              "      <td>6.275912e-04</td>\n",
              "      <td>3.156385e-04</td>\n",
              "      <td>2.542502e-04</td>\n",
              "      <td>6.430128e-04</td>\n",
              "      <td>7.753191e-04</td>\n",
              "      <td>4.335958e-04</td>\n",
              "      <td>2.380913e-04</td>\n",
              "    </tr>\n",
              "    <tr>\n",
              "      <th>DBC</th>\n",
              "      <td>5.094177e+14</td>\n",
              "      <td>2.196043e-04</td>\n",
              "      <td>2.311646e-03</td>\n",
              "      <td>1.251052e-03</td>\n",
              "      <td>1.049150e-03</td>\n",
              "      <td>4.867512e-04</td>\n",
              "      <td>-2.643418e-04</td>\n",
              "      <td>6.567233e-04</td>\n",
              "      <td>1.342427e-03</td>\n",
              "      <td>8.567695e-04</td>\n",
              "      <td>7.733438e-05</td>\n",
              "    </tr>\n",
              "    <tr>\n",
              "      <th>EEM</th>\n",
              "      <td>8.453962e+13</td>\n",
              "      <td>7.555636e-04</td>\n",
              "      <td>1.251052e-03</td>\n",
              "      <td>2.586151e-03</td>\n",
              "      <td>1.816385e-03</td>\n",
              "      <td>7.704075e-04</td>\n",
              "      <td>2.487046e-05</td>\n",
              "      <td>1.446262e-03</td>\n",
              "      <td>2.349596e-03</td>\n",
              "      <td>1.442163e-03</td>\n",
              "      <td>2.842419e-04</td>\n",
              "    </tr>\n",
              "    <tr>\n",
              "      <th>EFA</th>\n",
              "      <td>1.386670e+14</td>\n",
              "      <td>6.275912e-04</td>\n",
              "      <td>1.049150e-03</td>\n",
              "      <td>1.816385e-03</td>\n",
              "      <td>1.897641e-03</td>\n",
              "      <td>7.516189e-04</td>\n",
              "      <td>3.401706e-05</td>\n",
              "      <td>1.483289e-03</td>\n",
              "      <td>2.402299e-03</td>\n",
              "      <td>1.519370e-03</td>\n",
              "      <td>2.537856e-04</td>\n",
              "    </tr>\n",
              "    <tr>\n",
              "      <th>HYG</th>\n",
              "      <td>-1.849161e+14</td>\n",
              "      <td>3.156385e-04</td>\n",
              "      <td>4.867512e-04</td>\n",
              "      <td>7.704075e-04</td>\n",
              "      <td>7.516189e-04</td>\n",
              "      <td>4.804204e-04</td>\n",
              "      <td>7.516839e-05</td>\n",
              "      <td>7.890873e-04</td>\n",
              "      <td>1.096459e-03</td>\n",
              "      <td>7.171732e-04</td>\n",
              "      <td>1.742112e-04</td>\n",
              "    </tr>\n",
              "    <tr>\n",
              "      <th>IEF</th>\n",
              "      <td>-4.043419e+14</td>\n",
              "      <td>2.542502e-04</td>\n",
              "      <td>-2.643418e-04</td>\n",
              "      <td>2.487046e-05</td>\n",
              "      <td>3.401706e-05</td>\n",
              "      <td>7.516839e-05</td>\n",
              "      <td>3.354040e-04</td>\n",
              "      <td>2.822681e-04</td>\n",
              "      <td>2.530885e-05</td>\n",
              "      <td>6.152957e-07</td>\n",
              "      <td>2.037860e-04</td>\n",
              "    </tr>\n",
              "    <tr>\n",
              "      <th>IYR</th>\n",
              "      <td>-3.384797e+14</td>\n",
              "      <td>6.430128e-04</td>\n",
              "      <td>6.567233e-04</td>\n",
              "      <td>1.446262e-03</td>\n",
              "      <td>1.483289e-03</td>\n",
              "      <td>7.890873e-04</td>\n",
              "      <td>2.822681e-04</td>\n",
              "      <td>2.370943e-03</td>\n",
              "      <td>2.248891e-03</td>\n",
              "      <td>1.515297e-03</td>\n",
              "      <td>4.301905e-04</td>\n",
              "    </tr>\n",
              "    <tr>\n",
              "      <th>PSP</th>\n",
              "      <td>1.463803e+13</td>\n",
              "      <td>7.753191e-04</td>\n",
              "      <td>1.342427e-03</td>\n",
              "      <td>2.349596e-03</td>\n",
              "      <td>2.402299e-03</td>\n",
              "      <td>1.096459e-03</td>\n",
              "      <td>2.530885e-05</td>\n",
              "      <td>2.248891e-03</td>\n",
              "      <td>3.793879e-03</td>\n",
              "      <td>2.264700e-03</td>\n",
              "      <td>3.708235e-04</td>\n",
              "    </tr>\n",
              "    <tr>\n",
              "      <th>SPY</th>\n",
              "      <td>-3.948505e+13</td>\n",
              "      <td>4.335958e-04</td>\n",
              "      <td>8.567695e-04</td>\n",
              "      <td>1.442163e-03</td>\n",
              "      <td>1.519370e-03</td>\n",
              "      <td>7.171732e-04</td>\n",
              "      <td>6.152957e-07</td>\n",
              "      <td>1.515297e-03</td>\n",
              "      <td>2.264700e-03</td>\n",
              "      <td>1.700250e-03</td>\n",
              "      <td>2.321953e-04</td>\n",
              "    </tr>\n",
              "    <tr>\n",
              "      <th>TIP</th>\n",
              "      <td>-2.366907e+14</td>\n",
              "      <td>2.380913e-04</td>\n",
              "      <td>7.733438e-05</td>\n",
              "      <td>2.842419e-04</td>\n",
              "      <td>2.537856e-04</td>\n",
              "      <td>1.742112e-04</td>\n",
              "      <td>2.037860e-04</td>\n",
              "      <td>4.301905e-04</td>\n",
              "      <td>3.708235e-04</td>\n",
              "      <td>2.321953e-04</td>\n",
              "      <td>2.177310e-04</td>\n",
              "    </tr>\n",
              "  </tbody>\n",
              "</table>\n",
              "</div>"
            ],
            "text/plain": [
              "              Date           BWX           DBC           EEM           EFA  \\\n",
              "Date  1.714990e+34 -2.502562e+14  5.094177e+14  8.453962e+13  1.386670e+14   \n",
              "BWX  -2.502562e+14  5.711688e-04  2.196043e-04  7.555636e-04  6.275912e-04   \n",
              "DBC   5.094177e+14  2.196043e-04  2.311646e-03  1.251052e-03  1.049150e-03   \n",
              "EEM   8.453962e+13  7.555636e-04  1.251052e-03  2.586151e-03  1.816385e-03   \n",
              "EFA   1.386670e+14  6.275912e-04  1.049150e-03  1.816385e-03  1.897641e-03   \n",
              "HYG  -1.849161e+14  3.156385e-04  4.867512e-04  7.704075e-04  7.516189e-04   \n",
              "IEF  -4.043419e+14  2.542502e-04 -2.643418e-04  2.487046e-05  3.401706e-05   \n",
              "IYR  -3.384797e+14  6.430128e-04  6.567233e-04  1.446262e-03  1.483289e-03   \n",
              "PSP   1.463803e+13  7.753191e-04  1.342427e-03  2.349596e-03  2.402299e-03   \n",
              "SPY  -3.948505e+13  4.335958e-04  8.567695e-04  1.442163e-03  1.519370e-03   \n",
              "TIP  -2.366907e+14  2.380913e-04  7.733438e-05  2.842419e-04  2.537856e-04   \n",
              "\n",
              "               HYG           IEF           IYR           PSP           SPY  \\\n",
              "Date -1.849161e+14 -4.043419e+14 -3.384797e+14  1.463803e+13 -3.948505e+13   \n",
              "BWX   3.156385e-04  2.542502e-04  6.430128e-04  7.753191e-04  4.335958e-04   \n",
              "DBC   4.867512e-04 -2.643418e-04  6.567233e-04  1.342427e-03  8.567695e-04   \n",
              "EEM   7.704075e-04  2.487046e-05  1.446262e-03  2.349596e-03  1.442163e-03   \n",
              "EFA   7.516189e-04  3.401706e-05  1.483289e-03  2.402299e-03  1.519370e-03   \n",
              "HYG   4.804204e-04  7.516839e-05  7.890873e-04  1.096459e-03  7.171732e-04   \n",
              "IEF   7.516839e-05  3.354040e-04  2.822681e-04  2.530885e-05  6.152957e-07   \n",
              "IYR   7.890873e-04  2.822681e-04  2.370943e-03  2.248891e-03  1.515297e-03   \n",
              "PSP   1.096459e-03  2.530885e-05  2.248891e-03  3.793879e-03  2.264700e-03   \n",
              "SPY   7.171732e-04  6.152957e-07  1.515297e-03  2.264700e-03  1.700250e-03   \n",
              "TIP   1.742112e-04  2.037860e-04  4.301905e-04  3.708235e-04  2.321953e-04   \n",
              "\n",
              "               TIP  \n",
              "Date -2.366907e+14  \n",
              "BWX   2.380913e-04  \n",
              "DBC   7.733438e-05  \n",
              "EEM   2.842419e-04  \n",
              "EFA   2.537856e-04  \n",
              "HYG   1.742112e-04  \n",
              "IEF   2.037860e-04  \n",
              "IYR   4.301905e-04  \n",
              "PSP   3.708235e-04  \n",
              "SPY   2.321953e-04  \n",
              "TIP   2.177310e-04  "
            ]
          },
          "metadata": {},
          "output_type": "display_data"
        },
        {
          "data": {
            "image/png": "[encoded data removed]",
            "text/plain": [
              "<Figure size 1000x800 with 2 Axes>"
            ]
          },
          "metadata": {},
          "output_type": "display_data"
        }
      ],
      "source": [
        "# Build and display covariance matrix\n",
        "covariance_matrix = excess_return_1.cov()\n",
        "display(covariance_matrix)\n",
        "\n",
        "# Build correlation matrix\n",
        "correlation_matrix = excess_return_1.corr()\n",
        "\n",
        "# Display correlation matrix as a heatmap\n",
        "plt.figure(figsize=(10, 8))\n",
        "sns.heatmap(correlation_matrix, annot=True, cmap='coolwarm', fmt=\".2f\", linewidths=.5)\n",
        "plt.title('Correlation Matrix')\n",
        "plt.show()"
      ]
    },
    {
      "cell_type": "code",
      "execution_count": 80,
      "metadata": {},
      "outputs": [
        {
          "name": "stdout",
          "output_type": "stream",
          "text": [
            "Maximum correlation coefficient: 0.90\n",
            "Minimum correlation coefficient: -0.30\n"
          ]
        }
      ],
      "source": [
        "# Calculate maximum and minimimum correlation coefficients across pairs\n",
        "max_corr = correlation_matrix[correlation_matrix < 1].max().max()\n",
        "print(f\"Maximum correlation coefficient: {max_corr:.2f}\")\n",
        "min_corr = correlation_matrix.min().min()\n",
        "print(f\"Minimum correlation coefficient: {min_corr:.2f}\")"
      ]
    },
    {
      "cell_type": "markdown",
      "metadata": {},
      "source": [
        "From the correlation matrix, the highest pairwise correlation is approximately 0.90, between PSP (Invesco Global Listed Private rpuity ETF), which tracks listed private equity companies, and EFA (iShares MSCI EAFE ETF), which tracks mid- to large-cap equities in developed markets outside the U.S. and Canada. The lowest pairwise correlation is about -0.30, between IEF (iShares 7–10 Year Treasury Bond ETF), which tracks intermediate-term U.S. Treasuries, and DBC (Invesco DB Commodity Index Tracking Fund), which tracks a diversified commodities index.\n",
        "\n",
        "Based on the summary statistics, TIPS (TIP) outperformed nominal U.S. Treasuries (IEF) in both annualized return (2.1% vs 1.6%) and risk-adjusted performance (Sharpe 0.40 vs 0.26)."
      ]
    },
    {
      "cell_type": "markdown",
      "metadata": {},
      "source": [
        "### Mean-Variance"
      ]
    },
    {
      "cell_type": "code",
      "execution_count": 81,
      "metadata": {},
      "outputs": [],
      "source": [
        "#exclude the date column\n",
        "data = excess_return.drop(columns=['Date'])"
      ]
    },
    {
      "cell_type": "code",
      "execution_count": 82,
      "metadata": {},
      "outputs": [],
      "source": [
        "excess_mean = 12*data.mean() \n",
        "ones = np.ones(excess_mean.shape[0])\n",
        "covv = data.cov().to_numpy()\n",
        "inv_covv = np.linalg.inv(covv)\n",
        "delta_m = 1/(ones.T@inv_covv@excess_mean)\n",
        "w_tan = delta_m*inv_covv@excess_mean\n",
        "w_tan=w_tan.reshape(-1,1)"
      ]
    },
    {
      "cell_type": "code",
      "execution_count": 83,
      "metadata": {},
      "outputs": [
        {
          "data": {
            "text/plain": [
              "SPY    1.059632\n",
              "IEF    0.881186\n",
              "HYG    0.290614\n",
              "TIP    0.175293\n",
              "EFA    0.068682\n",
              "EEM    0.026437\n",
              "DBC   -0.071623\n",
              "IYR   -0.246582\n",
              "PSP   -0.332995\n",
              "BWX   -0.850643\n",
              "dtype: float64"
            ]
          },
          "execution_count": 83,
          "metadata": {},
          "output_type": "execute_result"
        }
      ],
      "source": [
        "weights = {name:w_tan[i][0] for i,name in enumerate(data.columns)}\n",
        "weights_tan = pd.Series(weights).sort_values(ascending=False)\n",
        "weights_tan"
      ]
    },
    {
      "cell_type": "code",
      "execution_count": 84,
      "metadata": {},
      "outputs": [
        {
          "data": {
            "text/plain": [
              "SPY    0.897103\n",
              "HYG    0.544873\n",
              "IYR    0.444143\n",
              "PSP    0.433804\n",
              "EFA    0.409372\n",
              "TIP    0.401091\n",
              "IEF    0.258569\n",
              "EEM    0.166542\n",
              "DBC   -0.031774\n",
              "BWX   -0.093202\n",
              "dtype: float64"
            ]
          },
          "execution_count": 84,
          "metadata": {},
          "output_type": "execute_result"
        }
      ],
      "source": [
        "std = data.std()*np.sqrt(12)\n",
        "shard_ratio = excess_mean/std\n",
        "shard_ratio = shard_ratio.sort_values(ascending=False)\n",
        "shard_ratio"
      ]
    },
    {
      "cell_type": "code",
      "execution_count": 85,
      "metadata": {},
      "outputs": [],
      "source": [
        "tik = {name:{'std':std[name] , 'mean':excess_mean[name] ,'sharpe ratio':shard_ratio[name], 'weight':weights_tan[name] }  for i,name in enumerate(data.columns)}\n",
        "df = pd.DataFrame(tik).T"
      ]
    },
    {
      "cell_type": "code",
      "execution_count": 86,
      "metadata": {},
      "outputs": [
        {
          "data": {
            "text/html": [
              "<div>\n",
              "<style scoped>\n",
              "    .dataframe tbody tr th:only-of-type {\n",
              "        vertical-align: middle;\n",
              "    }\n",
              "\n",
              "    .dataframe tbody tr th {\n",
              "        vertical-align: top;\n",
              "    }\n",
              "\n",
              "    .dataframe thead th {\n",
              "        text-align: right;\n",
              "    }\n",
              "</style>\n",
              "<table border=\"1\" class=\"dataframe\">\n",
              "  <thead>\n",
              "    <tr style=\"text-align: right;\">\n",
              "      <th></th>\n",
              "      <th>std</th>\n",
              "      <th>mean</th>\n",
              "      <th>sharpe ratio</th>\n",
              "      <th>weight</th>\n",
              "    </tr>\n",
              "  </thead>\n",
              "  <tbody>\n",
              "    <tr>\n",
              "      <th>SPY</th>\n",
              "      <td>0.142839</td>\n",
              "      <td>0.128141</td>\n",
              "      <td>0.897103</td>\n",
              "      <td>1.059632</td>\n",
              "    </tr>\n",
              "    <tr>\n",
              "      <th>IEF</th>\n",
              "      <td>0.063442</td>\n",
              "      <td>0.016404</td>\n",
              "      <td>0.258569</td>\n",
              "      <td>0.881186</td>\n",
              "    </tr>\n",
              "    <tr>\n",
              "      <th>HYG</th>\n",
              "      <td>0.075928</td>\n",
              "      <td>0.041371</td>\n",
              "      <td>0.544873</td>\n",
              "      <td>0.290614</td>\n",
              "    </tr>\n",
              "    <tr>\n",
              "      <th>TIP</th>\n",
              "      <td>0.051115</td>\n",
              "      <td>0.020502</td>\n",
              "      <td>0.401091</td>\n",
              "      <td>0.175293</td>\n",
              "    </tr>\n",
              "    <tr>\n",
              "      <th>EFA</th>\n",
              "      <td>0.150903</td>\n",
              "      <td>0.061775</td>\n",
              "      <td>0.409372</td>\n",
              "      <td>0.068682</td>\n",
              "    </tr>\n",
              "    <tr>\n",
              "      <th>EEM</th>\n",
              "      <td>0.176164</td>\n",
              "      <td>0.029339</td>\n",
              "      <td>0.166542</td>\n",
              "      <td>0.026437</td>\n",
              "    </tr>\n",
              "    <tr>\n",
              "      <th>DBC</th>\n",
              "      <td>0.166553</td>\n",
              "      <td>-0.005292</td>\n",
              "      <td>-0.031774</td>\n",
              "      <td>-0.071623</td>\n",
              "    </tr>\n",
              "    <tr>\n",
              "      <th>IYR</th>\n",
              "      <td>0.168675</td>\n",
              "      <td>0.074916</td>\n",
              "      <td>0.444143</td>\n",
              "      <td>-0.246582</td>\n",
              "    </tr>\n",
              "    <tr>\n",
              "      <th>PSP</th>\n",
              "      <td>0.213370</td>\n",
              "      <td>0.092561</td>\n",
              "      <td>0.433804</td>\n",
              "      <td>-0.332995</td>\n",
              "    </tr>\n",
              "    <tr>\n",
              "      <th>BWX</th>\n",
              "      <td>0.082789</td>\n",
              "      <td>-0.007716</td>\n",
              "      <td>-0.093202</td>\n",
              "      <td>-0.850643</td>\n",
              "    </tr>\n",
              "  </tbody>\n",
              "</table>\n",
              "</div>"
            ],
            "text/plain": [
              "          std      mean  sharpe ratio    weight\n",
              "SPY  0.142839  0.128141      0.897103  1.059632\n",
              "IEF  0.063442  0.016404      0.258569  0.881186\n",
              "HYG  0.075928  0.041371      0.544873  0.290614\n",
              "TIP  0.051115  0.020502      0.401091  0.175293\n",
              "EFA  0.150903  0.061775      0.409372  0.068682\n",
              "EEM  0.176164  0.029339      0.166542  0.026437\n",
              "DBC  0.166553 -0.005292     -0.031774 -0.071623\n",
              "IYR  0.168675  0.074916      0.444143 -0.246582\n",
              "PSP  0.213370  0.092561      0.433804 -0.332995\n",
              "BWX  0.082789 -0.007716     -0.093202 -0.850643"
            ]
          },
          "execution_count": 86,
          "metadata": {},
          "output_type": "execute_result"
        }
      ],
      "source": [
        "#ranking by weights\n",
        "df2 = df.sort_values(by='weight', ascending=False)\n",
        "df2"
      ]
    },
    {
      "cell_type": "code",
      "execution_count": 87,
      "metadata": {},
      "outputs": [
        {
          "data": {
            "text/html": [
              "<div>\n",
              "<style scoped>\n",
              "    .dataframe tbody tr th:only-of-type {\n",
              "        vertical-align: middle;\n",
              "    }\n",
              "\n",
              "    .dataframe tbody tr th {\n",
              "        vertical-align: top;\n",
              "    }\n",
              "\n",
              "    .dataframe thead th {\n",
              "        text-align: right;\n",
              "    }\n",
              "</style>\n",
              "<table border=\"1\" class=\"dataframe\">\n",
              "  <thead>\n",
              "    <tr style=\"text-align: right;\">\n",
              "      <th></th>\n",
              "      <th>std</th>\n",
              "      <th>mean</th>\n",
              "      <th>sharpe ratio</th>\n",
              "      <th>weight</th>\n",
              "    </tr>\n",
              "  </thead>\n",
              "  <tbody>\n",
              "    <tr>\n",
              "      <th>SPY</th>\n",
              "      <td>0.142839</td>\n",
              "      <td>0.128141</td>\n",
              "      <td>0.897103</td>\n",
              "      <td>1.059632</td>\n",
              "    </tr>\n",
              "    <tr>\n",
              "      <th>IEF</th>\n",
              "      <td>0.063442</td>\n",
              "      <td>0.016404</td>\n",
              "      <td>0.258569</td>\n",
              "      <td>0.881186</td>\n",
              "    </tr>\n",
              "    <tr>\n",
              "      <th>HYG</th>\n",
              "      <td>0.075928</td>\n",
              "      <td>0.041371</td>\n",
              "      <td>0.544873</td>\n",
              "      <td>0.290614</td>\n",
              "    </tr>\n",
              "    <tr>\n",
              "      <th>TIP</th>\n",
              "      <td>0.051115</td>\n",
              "      <td>0.020502</td>\n",
              "      <td>0.401091</td>\n",
              "      <td>0.175293</td>\n",
              "    </tr>\n",
              "    <tr>\n",
              "      <th>EFA</th>\n",
              "      <td>0.150903</td>\n",
              "      <td>0.061775</td>\n",
              "      <td>0.409372</td>\n",
              "      <td>0.068682</td>\n",
              "    </tr>\n",
              "    <tr>\n",
              "      <th>EEM</th>\n",
              "      <td>0.176164</td>\n",
              "      <td>0.029339</td>\n",
              "      <td>0.166542</td>\n",
              "      <td>0.026437</td>\n",
              "    </tr>\n",
              "    <tr>\n",
              "      <th>DBC</th>\n",
              "      <td>0.166553</td>\n",
              "      <td>-0.005292</td>\n",
              "      <td>-0.031774</td>\n",
              "      <td>-0.071623</td>\n",
              "    </tr>\n",
              "    <tr>\n",
              "      <th>IYR</th>\n",
              "      <td>0.168675</td>\n",
              "      <td>0.074916</td>\n",
              "      <td>0.444143</td>\n",
              "      <td>-0.246582</td>\n",
              "    </tr>\n",
              "    <tr>\n",
              "      <th>PSP</th>\n",
              "      <td>0.213370</td>\n",
              "      <td>0.092561</td>\n",
              "      <td>0.433804</td>\n",
              "      <td>-0.332995</td>\n",
              "    </tr>\n",
              "    <tr>\n",
              "      <th>BWX</th>\n",
              "      <td>0.082789</td>\n",
              "      <td>-0.007716</td>\n",
              "      <td>-0.093202</td>\n",
              "      <td>-0.850643</td>\n",
              "    </tr>\n",
              "  </tbody>\n",
              "</table>\n",
              "</div>"
            ],
            "text/plain": [
              "          std      mean  sharpe ratio    weight\n",
              "SPY  0.142839  0.128141      0.897103  1.059632\n",
              "IEF  0.063442  0.016404      0.258569  0.881186\n",
              "HYG  0.075928  0.041371      0.544873  0.290614\n",
              "TIP  0.051115  0.020502      0.401091  0.175293\n",
              "EFA  0.150903  0.061775      0.409372  0.068682\n",
              "EEM  0.176164  0.029339      0.166542  0.026437\n",
              "DBC  0.166553 -0.005292     -0.031774 -0.071623\n",
              "IYR  0.168675  0.074916      0.444143 -0.246582\n",
              "PSP  0.213370  0.092561      0.433804 -0.332995\n",
              "BWX  0.082789 -0.007716     -0.093202 -0.850643"
            ]
          },
          "execution_count": 87,
          "metadata": {},
          "output_type": "execute_result"
        }
      ],
      "source": [
        "#ranking by weights\n",
        "df2 = df.sort_values(by='weight', ascending=False)\n",
        "df2"
      ]
    },
    {
      "cell_type": "code",
      "execution_count": 88,
      "metadata": {},
      "outputs": [
        {
          "data": {
            "text/html": [
              "<div>\n",
              "<style scoped>\n",
              "    .dataframe tbody tr th:only-of-type {\n",
              "        vertical-align: middle;\n",
              "    }\n",
              "\n",
              "    .dataframe tbody tr th {\n",
              "        vertical-align: top;\n",
              "    }\n",
              "\n",
              "    .dataframe thead th {\n",
              "        text-align: right;\n",
              "    }\n",
              "</style>\n",
              "<table border=\"1\" class=\"dataframe\">\n",
              "  <thead>\n",
              "    <tr style=\"text-align: right;\">\n",
              "      <th></th>\n",
              "      <th>std</th>\n",
              "      <th>mean</th>\n",
              "      <th>sharpe ratio</th>\n",
              "      <th>weight</th>\n",
              "    </tr>\n",
              "  </thead>\n",
              "  <tbody>\n",
              "    <tr>\n",
              "      <th>SPY</th>\n",
              "      <td>0.142839</td>\n",
              "      <td>0.128141</td>\n",
              "      <td>0.897103</td>\n",
              "      <td>1.059632</td>\n",
              "    </tr>\n",
              "    <tr>\n",
              "      <th>HYG</th>\n",
              "      <td>0.075928</td>\n",
              "      <td>0.041371</td>\n",
              "      <td>0.544873</td>\n",
              "      <td>0.290614</td>\n",
              "    </tr>\n",
              "    <tr>\n",
              "      <th>IYR</th>\n",
              "      <td>0.168675</td>\n",
              "      <td>0.074916</td>\n",
              "      <td>0.444143</td>\n",
              "      <td>-0.246582</td>\n",
              "    </tr>\n",
              "    <tr>\n",
              "      <th>PSP</th>\n",
              "      <td>0.213370</td>\n",
              "      <td>0.092561</td>\n",
              "      <td>0.433804</td>\n",
              "      <td>-0.332995</td>\n",
              "    </tr>\n",
              "    <tr>\n",
              "      <th>EFA</th>\n",
              "      <td>0.150903</td>\n",
              "      <td>0.061775</td>\n",
              "      <td>0.409372</td>\n",
              "      <td>0.068682</td>\n",
              "    </tr>\n",
              "    <tr>\n",
              "      <th>TIP</th>\n",
              "      <td>0.051115</td>\n",
              "      <td>0.020502</td>\n",
              "      <td>0.401091</td>\n",
              "      <td>0.175293</td>\n",
              "    </tr>\n",
              "    <tr>\n",
              "      <th>IEF</th>\n",
              "      <td>0.063442</td>\n",
              "      <td>0.016404</td>\n",
              "      <td>0.258569</td>\n",
              "      <td>0.881186</td>\n",
              "    </tr>\n",
              "    <tr>\n",
              "      <th>EEM</th>\n",
              "      <td>0.176164</td>\n",
              "      <td>0.029339</td>\n",
              "      <td>0.166542</td>\n",
              "      <td>0.026437</td>\n",
              "    </tr>\n",
              "    <tr>\n",
              "      <th>DBC</th>\n",
              "      <td>0.166553</td>\n",
              "      <td>-0.005292</td>\n",
              "      <td>-0.031774</td>\n",
              "      <td>-0.071623</td>\n",
              "    </tr>\n",
              "    <tr>\n",
              "      <th>BWX</th>\n",
              "      <td>0.082789</td>\n",
              "      <td>-0.007716</td>\n",
              "      <td>-0.093202</td>\n",
              "      <td>-0.850643</td>\n",
              "    </tr>\n",
              "  </tbody>\n",
              "</table>\n",
              "</div>"
            ],
            "text/plain": [
              "          std      mean  sharpe ratio    weight\n",
              "SPY  0.142839  0.128141      0.897103  1.059632\n",
              "HYG  0.075928  0.041371      0.544873  0.290614\n",
              "IYR  0.168675  0.074916      0.444143 -0.246582\n",
              "PSP  0.213370  0.092561      0.433804 -0.332995\n",
              "EFA  0.150903  0.061775      0.409372  0.068682\n",
              "TIP  0.051115  0.020502      0.401091  0.175293\n",
              "IEF  0.063442  0.016404      0.258569  0.881186\n",
              "EEM  0.176164  0.029339      0.166542  0.026437\n",
              "DBC  0.166553 -0.005292     -0.031774 -0.071623\n",
              "BWX  0.082789 -0.007716     -0.093202 -0.850643"
            ]
          },
          "execution_count": 88,
          "metadata": {},
          "output_type": "execute_result"
        }
      ],
      "source": [
        "df3 = df.sort_values(by='sharpe ratio', ascending=False)\n",
        "df3"
      ]
    },
    {
      "cell_type": "markdown",
      "metadata": {},
      "source": [
        "As we can see the largest weights coreponded to the largest sharpe ratio. For example SPY who had the largest weight coresponded to the best sharpe ratio. However, it is not exactly in descending order, since the second largest weight is IEF but it did not corespond to the second largest sharpe ratio, which in this case was HYG."
      ]
    },
    {
      "cell_type": "code",
      "execution_count": 89,
      "metadata": {},
      "outputs": [
        {
          "name": "stdout",
          "output_type": "stream",
          "text": [
            "Mean: 0.1285\n",
            "Volatility: 0.0875\n",
            "Sharpe Ratio: 1.4692\n"
          ]
        }
      ],
      "source": [
        "# Compute the mean, volatility, and Sharpe ratio for the tangency portfolio\n",
        "mean_tan = w_tan.T@excess_mean.to_numpy()\n",
        "vol_tan = np.sqrt((w_tan.T@covv@w_tan)[0,0])*np.sqrt(12)\n",
        "sharpe_ration = mean_tan[0]/vol_tan\n",
        "print(f'Mean: {mean_tan[0]:.4f}\\nVolatility: {vol_tan:.4f}\\nSharpe Ratio: {sharpe_ration:.4f}')\n"
      ]
    },
    {
      "cell_type": "markdown",
      "metadata": {},
      "source": [
        "These are the following metrics for the tangency portfolio for $w^{tan}$"
      ]
    },
    {
      "cell_type": "markdown",
      "metadata": {},
      "source": [
        "## TIPS"
      ]
    },
    {
      "cell_type": "markdown",
      "metadata": {},
      "source": [
        "### Tangency portfolio weights and performance without TIPS"
      ]
    },
    {
      "cell_type": "code",
      "execution_count": 90,
      "metadata": {},
      "outputs": [
        {
          "data": {
            "text/plain": [
              "SPY    1.100973\n",
              "IEF    1.019957\n",
              "HYG    0.316300\n",
              "EFA    0.060153\n",
              "EEM    0.032493\n",
              "DBC   -0.063742\n",
              "IYR   -0.247445\n",
              "PSP   -0.339398\n",
              "BWX   -0.879292\n",
              "dtype: float64"
            ]
          },
          "execution_count": 90,
          "metadata": {},
          "output_type": "execute_result"
        }
      ],
      "source": [
        "# Drop TIPS column from the data\n",
        "data_no_tips = data.drop(columns=['TIP'])\n",
        "\n",
        "# Compute mean of the data without TIPS\n",
        "excess_mean_no_tips = 12*data_no_tips.mean()\n",
        "\n",
        "# Compute weights for the tangency portfolio without TIPS\n",
        "ones = np.ones(excess_mean_no_tips.shape[0])\n",
        "covv_no_tips = data_no_tips.cov().to_numpy()\n",
        "inv_covv_no_tips = np.linalg.inv(covv_no_tips)\n",
        "delta_m_no_tips = 1/(ones.T@inv_covv_no_tips@excess_mean_no_tips)\n",
        "w_tan_no_tips = delta_m_no_tips*inv_covv_no_tips@excess_mean_no_tips\n",
        "w_tan_no_tips=w_tan_no_tips.reshape(-1,1)\n",
        "\n",
        "#Display the weights\n",
        "weights_no_tips = {name:w_tan_no_tips[i][0] for i,name in enumerate(data_no_tips.columns)}\n",
        "weights_tan_no_tips = pd.Series(weights_no_tips).sort_values(ascending=False)\n",
        "weights_tan_no_tips\n"
      ]
    },
    {
      "cell_type": "code",
      "execution_count": 91,
      "metadata": {},
      "outputs": [
        {
          "name": "stdout",
          "output_type": "stream",
          "text": [
            "Mean: 0.1327\n",
            "Volatility: 0.0905\n",
            "Sharpe Ratio: 1.4675\n"
          ]
        }
      ],
      "source": [
        "# Compute performance metrics for the tangency portfolio without TIPS\n",
        "mean_tan_no_tips = w_tan_no_tips.T@excess_mean_no_tips.to_numpy()\n",
        "vol_tan_no_tips = np.sqrt((w_tan_no_tips.T@covv_no_tips@w_tan_no_tips)[0,0])*np.sqrt(12)\n",
        "sharpe_ratio_no_tips = mean_tan_no_tips[0]/vol_tan_no_tips\n",
        "print(f'Mean: {mean_tan_no_tips[0]:.4f}\\nVolatility: {vol_tan_no_tips:.4f}\\nSharpe Ratio: {sharpe_ratio_no_tips:.4f}')"
      ]
    },
    {
      "cell_type": "markdown",
      "metadata": {},
      "source": [
        "### Tangency portfolio weights and performance with higher expected return for TIPS"
      ]
    },
    {
      "cell_type": "code",
      "execution_count": 92,
      "metadata": {},
      "outputs": [
        {
          "data": {
            "text/plain": [
              "TIP    1.282487\n",
              "SPY    0.798513\n",
              "HYG    0.128372\n",
              "EFA    0.122554\n",
              "IEF    0.004667\n",
              "EEM   -0.011815\n",
              "DBC   -0.121397\n",
              "IYR   -0.241132\n",
              "PSP   -0.292555\n",
              "BWX   -0.669693\n",
              "dtype: float64"
            ]
          },
          "execution_count": 92,
          "metadata": {},
          "output_type": "execute_result"
        }
      ],
      "source": [
        "# Adjust TIP expected excess mean by +0.0012 (annualized)\n",
        "excess_mean_tipadj = 12 * data.mean().copy()\n",
        "excess_mean_tipadj.loc['TIP'] = excess_mean_tipadj['TIP'] + (0.0012 * 12)\n",
        "\n",
        "# Compute tangency portfolio with adjusted expected excess returns for TIPS\n",
        "mu_tipadj = excess_mean_tipadj.to_numpy()\n",
        "ones_tipadj = np.ones(mu_tipadj.shape[0])\n",
        "cov_tipadj = data.cov().to_numpy()\n",
        "inv_cov_tipadj = np.linalg.inv(cov_tipadj)\n",
        "\n",
        "delta_tipadj = 1.0 / (ones_tipadj @ inv_cov_tipadj @ mu_tipadj)\n",
        "w_tan_tipadj = (delta_tipadj * (inv_cov_tipadj @ mu_tipadj)).reshape(-1, 1)\n",
        "\n",
        "weights_tipadj = {name: w_tan_tipadj[i][0] for i, name in enumerate(data.columns)}\n",
        "weights_tan_tipadj = pd.Series(weights_tipadj).sort_values(ascending=False)\n",
        "weights_tan_tipadj"
      ]
    },
    {
      "cell_type": "code",
      "execution_count": 93,
      "metadata": {},
      "outputs": [
        {
          "name": "stdout",
          "output_type": "stream",
          "text": [
            "Mean: 0.1204\n",
            "Volatility: 0.0746\n",
            "Sharpe Ratio: 1.6124\n"
          ]
        }
      ],
      "source": [
        "# Compute performance metrics for the tangency portfolio with adjusted expected returns for TIPS\n",
        "mean_tan_tipadj = w_tan_tipadj.T@excess_mean_tipadj.to_numpy()\n",
        "vol_tan_tipadj = np.sqrt((w_tan_tipadj.T@cov_tipadj@w_tan_tipadj)[0,0])*np.sqrt(12)\n",
        "sharpe_ratio_tipadj = mean_tan_tipadj[0]/vol_tan_tipadj\n",
        "print(f'Mean: {mean_tan_tipadj[0]:.4f}\\nVolatility: {vol_tan_tipadj:.4f}\\nSharpe Ratio: {sharpe_ratio_tipadj:.4f}')"
      ]
    },
    {
      "cell_type": "markdown",
      "metadata": {},
      "source": [
        "### Summary"
      ]
    },
    {
      "cell_type": "markdown",
      "metadata": {},
      "source": [
        "If TIPS are excluded from the investment universe, the Sharpe ratio of the tangency portfolio declines only marginally from 1.4692 to 1.4675. This indicates that including TIPS provides only very modest improvement to the risk-adjusted performance of the portfolio. The decrease in the Sharpe ratio when removing TIPS is primarily driven by an increase in portfolio volatility, even though the tangency portfolio without TIPS delivers a higher mean annualized return (13.27% versus 12.85%).\n",
        "\n",
        "When the expected monthly return of TIPS is increased by 0.0012, the allocation to TIPS in the tangency portfolio rises (from 0.18 to 1.28). Interestingly, while this adjustment lowers the expected annualized portfolio return to 12.04%, it also reduces annualized volatility from 8.75% to 7.46%. As a result, the Sharpe ratio improves noticeably to 1.61.\n",
        "\n",
        "Taken together, these results suggest that TIPS do expand the investment opportunity set. Although their inclusion does not significantly increase the in-sample Sharpe ratio at their actual excess returns, they allow the portfolio to achieve lower volatility, thus enhancing the set of attainable risk-return combinations. For this reason, Harvard should view TIPS as a distinct and valuable asset class within its investment universe."
      ]
    },
    {
      "cell_type": "markdown",
      "metadata": {},
      "source": [
        "## Allocations"
      ]
    },
    {
      "cell_type": "markdown",
      "metadata": {},
      "source": [
        "### Equally-Weighted"
      ]
    },
    {
      "cell_type": "code",
      "execution_count": 94,
      "metadata": {},
      "outputs": [
        {
          "name": "stdout",
          "output_type": "stream",
          "text": [
            "[0.26548628 0.26548628 0.26548628 0.26548628 0.26548628 0.26548628\n",
            " 0.26548628 0.26548628 0.26548628 0.26548628]\n"
          ]
        }
      ],
      "source": [
        "#Rescale the entire weighting vector to have target mean\n",
        "X = excess_return.copy()\n",
        "if not isinstance(X.index, (pd.DatetimeIndex, pd.PeriodIndex)):\n",
        "   X = X.set_index(X.columns[0])\n",
        "X.index = pd.to_datetime(X.index)\n",
        "X = X.apply(pd.to_numeric, errors = 'coerce').dropna()\n",
        "#Monthly:\n",
        "mu_m = X.mean()\n",
        "sigma_m = X.cov()\n",
        "\n",
        "\n",
        "target_mu = 0.01\n",
        "def rescale(w, mu, target):\n",
        "   mu_p = float(w @ mu)\n",
        "   return w * (target / mu_p)\n",
        "n = X.shape[1]\n",
        "w_eq = np.ones(n)/n\n",
        "w_eq = rescale(w_eq, mu_m, target_mu)\n",
        "print(w_eq)"
      ]
    },
    {
      "cell_type": "markdown",
      "metadata": {},
      "source": [
        "### Risk-Parity"
      ]
    },
    {
      "cell_type": "code",
      "execution_count": 95,
      "metadata": {},
      "outputs": [
        {
          "name": "stdout",
          "output_type": "stream",
          "text": [
            "[0.54058467 0.1335694  0.11939177 0.16271001 0.64269776 0.92057663\n",
            " 0.13022879 0.08138508 0.18159982 1.4181035 ]\n"
          ]
        }
      ],
      "source": [
        "inv_var = 1/np.diag(sigma_m)\n",
        "w_rp = inv_var / inv_var.sum()\n",
        "w_rp = rescale(w_rp, mu_m, target_mu)\n",
        "print(w_rp)"
      ]
    },
    {
      "cell_type": "markdown",
      "metadata": {},
      "source": [
        "### Mean Variance"
      ]
    },
    {
      "cell_type": "markdown",
      "metadata": {},
      "source": []
    },
    {
      "cell_type": "code",
      "execution_count": 96,
      "metadata": {},
      "outputs": [
        {
          "data": {
            "text/plain": [
              "BWX   -0.794248\n",
              "DBC   -0.066874\n",
              "EEM    0.024684\n",
              "EFA    0.064129\n",
              "HYG    0.271347\n",
              "IEF    0.822766\n",
              "IYR   -0.230235\n",
              "PSP   -0.310919\n",
              "SPY    0.989382\n",
              "TIP    0.163671\n",
              "dtype: float64"
            ]
          },
          "metadata": {},
          "output_type": "display_data"
        }
      ],
      "source": [
        "theta = np.linalg.solve(sigma_m.values, mu_m.values)        \n",
        "w_mv_base = pd.Series(theta / np.sum(theta), index=X.columns)   \n",
        "w_mv = rescale(w_mv_base, mu_m, target_mu)            \n",
        "display(w_mv)"
      ]
    },
    {
      "cell_type": "markdown",
      "metadata": {},
      "source": [
        "### Comparisons"
      ]
    },
    {
      "cell_type": "code",
      "execution_count": 97,
      "metadata": {},
      "outputs": [],
      "source": [
        "port = {\"EW\": pd.Series(w_eq, index = X.columns), \n",
        "        \"RP\": pd.Series(w_rp, index = X.columns), \n",
        "        \"MV\": pd.Series(w_mv, index = X.columns)}"
      ]
    },
    {
      "cell_type": "code",
      "execution_count": 98,
      "metadata": {},
      "outputs": [],
      "source": [
        "retn_series = {name: X.dot(w) for name, w in port.items()}\n",
        "retn_df = pd.DataFrame(retn_series)"
      ]
    },
    {
      "cell_type": "code",
      "execution_count": 99,
      "metadata": {},
      "outputs": [],
      "source": [
        "ann_mean = retn_df.mean() * 12.0\n",
        "ann_vol  = retn_df.std(ddof=1) * np.sqrt(12.0)\n",
        "ann_sharpe = (retn_df.mean() / retn_df.std(ddof=1)) * np.sqrt(12.0)"
      ]
    },
    {
      "cell_type": "code",
      "execution_count": 100,
      "metadata": {},
      "outputs": [],
      "source": [
        "results_df = pd.DataFrame({\n",
        "    \"Ann. Mean\":   ann_mean,\n",
        "    \"Ann. Vol\":    ann_vol,\n",
        "    \"Ann. Sharpe\": ann_sharpe\n",
        "}).sort_values(\"Ann. Sharpe\", ascending=False)"
      ]
    },
    {
      "cell_type": "code",
      "execution_count": 101,
      "metadata": {},
      "outputs": [
        {
          "data": {
            "text/html": [
              "<div>\n",
              "<style scoped>\n",
              "    .dataframe tbody tr th:only-of-type {\n",
              "        vertical-align: middle;\n",
              "    }\n",
              "\n",
              "    .dataframe tbody tr th {\n",
              "        vertical-align: top;\n",
              "    }\n",
              "\n",
              "    .dataframe thead th {\n",
              "        text-align: right;\n",
              "    }\n",
              "</style>\n",
              "<table border=\"1\" class=\"dataframe\">\n",
              "  <thead>\n",
              "    <tr style=\"text-align: right;\">\n",
              "      <th></th>\n",
              "      <th>Ann. Mean</th>\n",
              "      <th>Ann. Vol</th>\n",
              "      <th>Ann. Sharpe</th>\n",
              "    </tr>\n",
              "  </thead>\n",
              "  <tbody>\n",
              "    <tr>\n",
              "      <th>MV</th>\n",
              "      <td>0.12</td>\n",
              "      <td>0.081678</td>\n",
              "      <td>1.469190</td>\n",
              "    </tr>\n",
              "    <tr>\n",
              "      <th>RP</th>\n",
              "      <td>0.12</td>\n",
              "      <td>0.263919</td>\n",
              "      <td>0.454685</td>\n",
              "    </tr>\n",
              "    <tr>\n",
              "      <th>EW</th>\n",
              "      <td>0.12</td>\n",
              "      <td>0.269247</td>\n",
              "      <td>0.445687</td>\n",
              "    </tr>\n",
              "  </tbody>\n",
              "</table>\n",
              "</div>"
            ],
            "text/plain": [
              "    Ann. Mean  Ann. Vol  Ann. Sharpe\n",
              "MV       0.12  0.081678     1.469190\n",
              "RP       0.12  0.263919     0.454685\n",
              "EW       0.12  0.269247     0.445687"
            ]
          },
          "metadata": {},
          "output_type": "display_data"
        }
      ],
      "source": [
        "display(results_df)"
      ]
    },
    {
      "cell_type": "markdown",
      "metadata": {},
      "source": [
        "The Mean-Variance tangency portfolio has a sharpe ratio of 1.47 which is. much higher than the rpual-weighted or risk-parity. \n",
        "this indicates the tangency portfolio delivers much better risk-adjusted returns (as expected since it explicitly maximizes sharpe)\n",
        "\n",
        "Annualized volatility is only 8.17% which is far below RP and EW, while delivering the same target mean. \n",
        "\n",
        "In terms of comparing RP and EW, both achieve the same mean but RP's volatility is slightly lower which gives a slightly better Sharpe. This makes sense as RP allocates more to low-vol assets like IEF and TIP, which reduces risk relative to EW.\n",
        "\n",
        "However, both are far less efficient than MV\n"
      ]
    },
    {
      "cell_type": "code",
      "execution_count": 102,
      "metadata": {},
      "outputs": [
        {
          "data": {
            "text/html": [
              "<div>\n",
              "<style scoped>\n",
              "    .dataframe tbody tr th:only-of-type {\n",
              "        vertical-align: middle;\n",
              "    }\n",
              "\n",
              "    .dataframe tbody tr th {\n",
              "        vertical-align: top;\n",
              "    }\n",
              "\n",
              "    .dataframe thead th {\n",
              "        text-align: right;\n",
              "    }\n",
              "</style>\n",
              "<table border=\"1\" class=\"dataframe\">\n",
              "  <thead>\n",
              "    <tr style=\"text-align: right;\">\n",
              "      <th></th>\n",
              "      <th>EW</th>\n",
              "      <th>RP</th>\n",
              "      <th>MV</th>\n",
              "    </tr>\n",
              "  </thead>\n",
              "  <tbody>\n",
              "    <tr>\n",
              "      <th>BWX</th>\n",
              "      <td>0.265486</td>\n",
              "      <td>0.540585</td>\n",
              "      <td>-0.794248</td>\n",
              "    </tr>\n",
              "    <tr>\n",
              "      <th>DBC</th>\n",
              "      <td>0.265486</td>\n",
              "      <td>0.133569</td>\n",
              "      <td>-0.066874</td>\n",
              "    </tr>\n",
              "    <tr>\n",
              "      <th>EEM</th>\n",
              "      <td>0.265486</td>\n",
              "      <td>0.119392</td>\n",
              "      <td>0.024684</td>\n",
              "    </tr>\n",
              "    <tr>\n",
              "      <th>EFA</th>\n",
              "      <td>0.265486</td>\n",
              "      <td>0.162710</td>\n",
              "      <td>0.064129</td>\n",
              "    </tr>\n",
              "    <tr>\n",
              "      <th>HYG</th>\n",
              "      <td>0.265486</td>\n",
              "      <td>0.642698</td>\n",
              "      <td>0.271347</td>\n",
              "    </tr>\n",
              "    <tr>\n",
              "      <th>IEF</th>\n",
              "      <td>0.265486</td>\n",
              "      <td>0.920577</td>\n",
              "      <td>0.822766</td>\n",
              "    </tr>\n",
              "    <tr>\n",
              "      <th>IYR</th>\n",
              "      <td>0.265486</td>\n",
              "      <td>0.130229</td>\n",
              "      <td>-0.230235</td>\n",
              "    </tr>\n",
              "    <tr>\n",
              "      <th>PSP</th>\n",
              "      <td>0.265486</td>\n",
              "      <td>0.081385</td>\n",
              "      <td>-0.310919</td>\n",
              "    </tr>\n",
              "    <tr>\n",
              "      <th>SPY</th>\n",
              "      <td>0.265486</td>\n",
              "      <td>0.181600</td>\n",
              "      <td>0.989382</td>\n",
              "    </tr>\n",
              "    <tr>\n",
              "      <th>TIP</th>\n",
              "      <td>0.265486</td>\n",
              "      <td>1.418104</td>\n",
              "      <td>0.163671</td>\n",
              "    </tr>\n",
              "  </tbody>\n",
              "</table>\n",
              "</div>"
            ],
            "text/plain": [
              "           EW        RP        MV\n",
              "BWX  0.265486  0.540585 -0.794248\n",
              "DBC  0.265486  0.133569 -0.066874\n",
              "EEM  0.265486  0.119392  0.024684\n",
              "EFA  0.265486  0.162710  0.064129\n",
              "HYG  0.265486  0.642698  0.271347\n",
              "IEF  0.265486  0.920577  0.822766\n",
              "IYR  0.265486  0.130229 -0.230235\n",
              "PSP  0.265486  0.081385 -0.310919\n",
              "SPY  0.265486  0.181600  0.989382\n",
              "TIP  0.265486  1.418104  0.163671"
            ]
          },
          "metadata": {},
          "output_type": "display_data"
        }
      ],
      "source": [
        "weights_df = pd.concat(port, axis=1)\n",
        "display(weights_df)"
      ]
    },
    {
      "cell_type": "markdown",
      "metadata": {},
      "source": [
        "For EW, it is uniform with about 26.5% to each asset. RP has big weights in low variance bonds such as IEF, and TIP and smaller allocations to higher-volatility equities and commodities. MV very concentrated and heavy positive weights in IEF and SPY, but it has large negative weights or short positions in BWX, PSP, IYR, and DBC. \n",
        "\n",
        "This reflects MV\"s attempt to maximize sharpe which overweights assets with high mean-to-volatility and strong diversification benefits, shorting assets with low sharpe or poor correlation propertires. \n",
        "\n",
        "In all, EW ignores risk/return differences and is inefficient. And while RP tilts towards bonds and has lower volatility, it is still inefficient. MV makes aggressive bets, including shorts, which explains the dramatically higher sharpe ratio."
      ]
    },
    {
      "cell_type": "markdown",
      "metadata": {},
      "source": [
        "## 4. Out of Sample"
      ]
    },
    {
      "cell_type": "code",
      "execution_count": 118,
      "metadata": {},
      "outputs": [],
      "source": [
        "X_train = excess_return[excess_return['Date']<='2023-12-31'].drop('Date',axis=1)\n",
        "X_test = excess_return[excess_return['Date']>'2023-12-31'].drop('Date',axis=1)\n",
        "\n",
        "n = X_train.shape[1]\n",
        "mu_train = X_train.mean().to_numpy()  # mean excess return per asset\n",
        "cov_train = X_train.cov().to_numpy()\n",
        "mu_test = X_test.mean().to_numpy()\n",
        "cov_test = X_test.cov().to_numpy()\n",
        "\n",
        "mu_p = 0.01"
      ]
    },
    {
      "cell_type": "markdown",
      "metadata": {},
      "source": [
        "### Equally Weighted "
      ]
    },
    {
      "cell_type": "code",
      "execution_count": 119,
      "metadata": {},
      "outputs": [
        {
          "data": {
            "text/plain": [
              "array([0.25882838, 0.25882838, 0.25882838, 0.25882838, 0.25882838,\n",
              "       0.25882838, 0.25882838, 0.25882838, 0.25882838, 0.25882838])"
            ]
          },
          "execution_count": 119,
          "metadata": {},
          "output_type": "execute_result"
        }
      ],
      "source": [
        "#Equally Weighted\n",
        "mu_p = 0.01\n",
        "w_eq = 1/n * np.ones(n)\n",
        "mu_eq_train_raw = w_eq@mu_train\n",
        "w_eq_scaled= mu_p/mu_eq_train_raw * w_eq\n",
        "w_eq_scaled"
      ]
    },
    {
      "cell_type": "code",
      "execution_count": 120,
      "metadata": {},
      "outputs": [],
      "source": [
        "#Find the standar deviation in sample\n",
        "mu_eq_train = w_eq_scaled @ mu_train\n",
        "std_eq_train = np.sqrt(w_eq_scaled.T@cov_train @ w_eq_scaled)"
      ]
    },
    {
      "cell_type": "markdown",
      "metadata": {},
      "source": [
        "### Risk Parity Weights"
      ]
    },
    {
      "cell_type": "code",
      "execution_count": 121,
      "metadata": {},
      "outputs": [
        {
          "data": {
            "text/plain": [
              "array([0.54222768, 0.12081133, 0.10711909, 0.14937501, 0.57472572,\n",
              "       0.89757822, 0.12433866, 0.07455437, 0.16970527, 1.33245365])"
            ]
          },
          "execution_count": 121,
          "metadata": {},
          "output_type": "execute_result"
        }
      ],
      "source": [
        "#Risk Parity\n",
        "var_train = np.diag(cov_train)\n",
        "w_rp_raw = 1/var_train\n",
        "w_rp_raw = w_rp_raw/w_rp_raw.sum()\n",
        "mu_rp_train_raw = w_rp_raw@mu_train\n",
        "\n",
        "#Scale weights\n",
        "w_rp_scaled = mu_p/mu_rp_train_raw * w_rp_raw\n",
        "w_rp_scaled"
      ]
    },
    {
      "cell_type": "code",
      "execution_count": 122,
      "metadata": {},
      "outputs": [],
      "source": [
        "#Find the standar deviation in sample\n",
        "mu_rp_train = w_rp_scaled @ mu_train\n",
        "std_rp_train = np.sqrt(w_rp_scaled.T@cov_train @ w_rp_scaled)"
      ]
    },
    {
      "cell_type": "markdown",
      "metadata": {},
      "source": [
        "### Mean Variance with tangential weights"
      ]
    },
    {
      "cell_type": "code",
      "execution_count": 123,
      "metadata": {},
      "outputs": [
        {
          "data": {
            "text/plain": [
              "array([-8.23782352e-01,  3.54007090e-03,  4.18055454e-02, -1.12152119e-01,\n",
              "        2.02509840e-01,  1.01395855e+00, -2.13733512e-01, -2.25556571e-01,\n",
              "        1.01641315e+00, -6.46439528e-04])"
            ]
          },
          "execution_count": 123,
          "metadata": {},
          "output_type": "execute_result"
        }
      ],
      "source": [
        "#Mean variance\n",
        "inv_covv = np.linalg.inv(cov_train)\n",
        "delta = 1/(np.ones(n).T@inv_covv@mu_train)\n",
        "w_mv_raw = delta*inv_covv@mu_train\n",
        "\n",
        "#rescale to hit target mean\n",
        "mu_mv_train_raw = w_mv_raw @ mu_train\n",
        "w_mv_scaled = w_mv_raw * (mu_p / mu_mv_train_raw)\n",
        "w_mv_scaled"
      ]
    },
    {
      "cell_type": "code",
      "execution_count": 124,
      "metadata": {},
      "outputs": [
        {
          "data": {
            "text/plain": [
              "np.float64(0.022823957444302094)"
            ]
          },
          "execution_count": 124,
          "metadata": {},
          "output_type": "execute_result"
        }
      ],
      "source": [
        "#Find the standar deviation in sample\n",
        "mu_mv_train = w_mv_scaled @ mu_train\n",
        "std_mv_train = np.sqrt(w_mv_scaled.T@cov_train @ w_mv_scaled)\n",
        "std_mv_train"
      ]
    },
    {
      "cell_type": "code",
      "execution_count": 125,
      "metadata": {},
      "outputs": [],
      "source": [
        "sharpe_eq = mu_mv_train/std_mv_train *np.sqrt(12)\n",
        "sharpe_rp = mu_rp_train/std_rp_train*np.sqrt(12)\n",
        "sharpe_mv = mu_mv_train/std_mv_train *np.sqrt(12)"
      ]
    },
    {
      "cell_type": "code",
      "execution_count": 126,
      "metadata": {},
      "outputs": [
        {
          "name": "stdout",
          "output_type": "stream",
          "text": [
            "In Sample sharpe ratio\n",
            "Sharpe Ratio for EQ = 1.5177480170085722\n",
            "Sharpe Ratio Risk Parity = 0.47650890677194896\n",
            "Sharpe Ratio for Mean Variance 1.5177480170085722\n"
          ]
        }
      ],
      "source": [
        "#Sharpe ratio using in sample\n",
        "print('In Sample sharpe ratio')\n",
        "print(f'Sharpe Ratio for EQ = {sharpe_eq}')\n",
        "print(f'Sharpe Ratio Risk Parity = {sharpe_rp}')\n",
        "print(f'Sharpe Ratio for Mean Variance {sharpe_mv}')"
      ]
    },
    {
      "cell_type": "code",
      "execution_count": 127,
      "metadata": {},
      "outputs": [
        {
          "data": {
            "text/plain": [
              "np.float64(0.04961417085505313)"
            ]
          },
          "execution_count": 127,
          "metadata": {},
          "output_type": "execute_result"
        }
      ],
      "source": [
        "#Calculate using out of sample for EQ\n",
        "mu_eq_test = w_eq_scaled @ mu_test\n",
        "std_eq_test = np.sqrt(w_eq_scaled.T@cov_test @ w_eq_scaled)\n",
        "std_eq_test"
      ]
    },
    {
      "cell_type": "code",
      "execution_count": 128,
      "metadata": {},
      "outputs": [
        {
          "data": {
            "text/plain": [
              "np.float64(0.031258575365158504)"
            ]
          },
          "execution_count": 128,
          "metadata": {},
          "output_type": "execute_result"
        }
      ],
      "source": [
        "#Calculate using out of sample for RP\n",
        "mu_rp_test = w_rp_scaled @ mu_test\n",
        "std_rp_test = np.sqrt(w_mv_scaled.T@cov_test @ w_mv_scaled)\n",
        "std_rp_test"
      ]
    },
    {
      "cell_type": "code",
      "execution_count": 129,
      "metadata": {},
      "outputs": [
        {
          "data": {
            "text/plain": [
              "np.float64(0.031258575365158504)"
            ]
          },
          "execution_count": 129,
          "metadata": {},
          "output_type": "execute_result"
        }
      ],
      "source": [
        "#Calculate using out of. sample\n",
        "mu_mv_test = w_mv_scaled @ mu_test\n",
        "std_mv_test = np.sqrt(w_mv_scaled.T@cov_test @ w_mv_scaled)\n",
        "std_mv_test"
      ]
    },
    {
      "cell_type": "code",
      "execution_count": 130,
      "metadata": {},
      "outputs": [],
      "source": [
        "sharpe_eq_test = mu_mv_test/std_mv_test *np.sqrt(12)\n",
        "sharpe_rp_test = mu_rp_test/std_rp_test*np.sqrt(12)\n",
        "sharpe_mv_test = mu_mv_test/std_mv_test *np.sqrt(12)"
      ]
    },
    {
      "cell_type": "code",
      "execution_count": 136,
      "metadata": {},
      "outputs": [
        {
          "name": "stdout",
          "output_type": "stream",
          "text": [
            "Out of Sample sharpe ratio\n",
            "Sharpe Ratio for EQ = 1.01\n",
            "Sharpe Ratio Risk Parity = 0.30\n",
            "Sharpe Ratio for Mean Variance 1.01\n"
          ]
        }
      ],
      "source": [
        "#Sharpe ratio using Out of sample\n",
        "print('Out of Sample sharpe ratio')\n",
        "print(f'Sharpe Ratio for EQ = {sharpe_eq_test:.2f}')\n",
        "print(f'Sharpe Ratio Risk Parity = {sharpe_rp_test:.2f}')\n",
        "print(f'Sharpe Ratio for Mean Variance {sharpe_mv_test:.2f}')"
      ]
    },
    {
      "cell_type": "code",
      "execution_count": 139,
      "metadata": {},
      "outputs": [
        {
          "data": {
            "text/html": [
              "<div>\n",
              "<style scoped>\n",
              "    .dataframe tbody tr th:only-of-type {\n",
              "        vertical-align: middle;\n",
              "    }\n",
              "\n",
              "    .dataframe tbody tr th {\n",
              "        vertical-align: top;\n",
              "    }\n",
              "\n",
              "    .dataframe thead th {\n",
              "        text-align: right;\n",
              "    }\n",
              "</style>\n",
              "<table border=\"1\" class=\"dataframe\">\n",
              "  <thead>\n",
              "    <tr style=\"text-align: right;\">\n",
              "      <th></th>\n",
              "      <th>In Sample Sharpe</th>\n",
              "      <th>In Sample Mean</th>\n",
              "      <th>Out Sample Sharpe</th>\n",
              "      <th>Out Sample Mean</th>\n",
              "    </tr>\n",
              "  </thead>\n",
              "  <tbody>\n",
              "    <tr>\n",
              "      <th>Equal Weight</th>\n",
              "      <td>1.517748</td>\n",
              "      <td>0.12</td>\n",
              "      <td>1.013700</td>\n",
              "      <td>0.089552</td>\n",
              "    </tr>\n",
              "    <tr>\n",
              "      <th>Risk Parity</th>\n",
              "      <td>0.476509</td>\n",
              "      <td>0.12</td>\n",
              "      <td>0.297918</td>\n",
              "      <td>0.032259</td>\n",
              "    </tr>\n",
              "    <tr>\n",
              "      <th>Mean Variance</th>\n",
              "      <td>1.517748</td>\n",
              "      <td>0.12</td>\n",
              "      <td>1.013700</td>\n",
              "      <td>0.109766</td>\n",
              "    </tr>\n",
              "  </tbody>\n",
              "</table>\n",
              "</div>"
            ],
            "text/plain": [
              "               In Sample Sharpe  In Sample Mean  Out Sample Sharpe  \\\n",
              "Equal Weight           1.517748            0.12           1.013700   \n",
              "Risk Parity            0.476509            0.12           0.297918   \n",
              "Mean Variance          1.517748            0.12           1.013700   \n",
              "\n",
              "               Out Sample Mean  \n",
              "Equal Weight          0.089552  \n",
              "Risk Parity           0.032259  \n",
              "Mean Variance         0.109766  "
            ]
          },
          "execution_count": 139,
          "metadata": {},
          "output_type": "execute_result"
        }
      ],
      "source": [
        "strat = {'Equal Weight':{'In Sample Sharpe':sharpe_eq, 'In Sample Mean':mu_eq_train*12, 'Out Sample Sharpe':sharpe_eq_test, 'Out Sample Mean':mu_eq_test*12}, \n",
        "         'Risk Parity':{'In Sample Sharpe':sharpe_rp, 'In Sample Mean':mu_rp_train*12, 'Out Sample Sharpe':sharpe_rp_test, 'Out Sample Mean':mu_rp_test*12}, \n",
        "         'Mean Variance':{'In Sample Sharpe':sharpe_mv, 'In Sample Mean':mu_mv_train*12, 'Out Sample Sharpe':sharpe_mv_test, 'Out Sample Mean':mu_mv_test*12}}\n",
        "pd.DataFrame(strat).T"
      ]
    },
    {
      "cell_type": "markdown",
      "metadata": {},
      "source": [
        "From this result we can see that the Equaly weighted and Mean Variance have the same sharpe however the excess return for the Mean Variance strategy exceeds the one of equal wweights"
      ]
    },
    {
      "cell_type": "markdown",
      "metadata": {},
      "source": []
    }
  ],
  "metadata": {
    "colab": {
      "provenance": []
    },
    "kernelspec": {
      "display_name": "base",
      "language": "python",
      "name": "python3"
    },
    "language_info": {
      "codemirror_mode": {
        "name": "ipython",
        "version": 3
      },
      "file_extension": ".py",
      "mimetype": "text/x-python",
      "name": "python",
      "nbconvert_exporter": "python",
      "pygments_lexer": "ipython3",
      "version": "3.13.5"
    }
  },
  "nbformat": 4,
  "nbformat_minor": 0
}
